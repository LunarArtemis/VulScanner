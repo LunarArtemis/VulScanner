{
 "cells": [
  {
   "cell_type": "code",
   "execution_count": 2,
   "metadata": {},
   "outputs": [],
   "source": [
    "# load hdf5 file and plot the data\n",
    "import h5py\n",
    "import numpy as np\n",
    "import matplotlib.pyplot as plt\n",
    "import pandas as pd\n",
    "import os\n",
    "import sys"
   ]
  },
  {
   "cell_type": "code",
   "execution_count": 7,
   "metadata": {},
   "outputs": [],
   "source": [
    "vdisc_train = h5py.File('Datasets/VDISC_train.hdf5')\n",
    "vdisc_test = h5py.File('Datasets/VDISC_test.hdf5')\n",
    "vdisc_valid = h5py.File('Datasets/VDISC_validate.hdf5')"
   ]
  },
  {
   "cell_type": "code",
   "execution_count": 9,
   "metadata": {},
   "outputs": [],
   "source": [
    "# Convert hdf5 to pandas dataframe\n",
    "def hdf5_to_df(hdf5_file):\n",
    "    data_frame = {\n",
    "        'code': hdf5_file['functionSource'],\n",
    "        'CWE-119': hdf5_file['CWE-119'],\n",
    "        'CWE-120': hdf5_file['CWE-120'],\n",
    "        'CWE-469': hdf5_file['CWE-469'],\n",
    "        'CWE-476': hdf5_file['CWE-476'],\n",
    "        'CWE-OTHERS': hdf5_file['CWE-other'],\n",
    "    }\n",
    "    return pd.DataFrame(data=data_frame)"
   ]
  },
  {
   "cell_type": "code",
   "execution_count": 10,
   "metadata": {},
   "outputs": [],
   "source": [
    "test = hdf5_to_df(vdisc_train)"
   ]
  },
  {
   "cell_type": "code",
   "execution_count": 11,
   "metadata": {},
   "outputs": [
    {
     "data": {
      "text/html": [
       "<div>\n",
       "<style scoped>\n",
       "    .dataframe tbody tr th:only-of-type {\n",
       "        vertical-align: middle;\n",
       "    }\n",
       "\n",
       "    .dataframe tbody tr th {\n",
       "        vertical-align: top;\n",
       "    }\n",
       "\n",
       "    .dataframe thead th {\n",
       "        text-align: right;\n",
       "    }\n",
       "</style>\n",
       "<table border=\"1\" class=\"dataframe\">\n",
       "  <thead>\n",
       "    <tr style=\"text-align: right;\">\n",
       "      <th></th>\n",
       "      <th>code</th>\n",
       "      <th>CWE-119</th>\n",
       "      <th>CWE-120</th>\n",
       "      <th>CWE-469</th>\n",
       "      <th>CWE-476</th>\n",
       "      <th>CWE-OTHERS</th>\n",
       "    </tr>\n",
       "  </thead>\n",
       "  <tbody>\n",
       "    <tr>\n",
       "      <th>0</th>\n",
       "      <td>b'clear_area(int startx, int starty, int xsize...</td>\n",
       "      <td>False</td>\n",
       "      <td>False</td>\n",
       "      <td>False</td>\n",
       "      <td>False</td>\n",
       "      <td>False</td>\n",
       "    </tr>\n",
       "    <tr>\n",
       "      <th>1</th>\n",
       "      <td>b'ReconstructDuList(Statement* head)\\n{\\n    S...</td>\n",
       "      <td>False</td>\n",
       "      <td>False</td>\n",
       "      <td>False</td>\n",
       "      <td>False</td>\n",
       "      <td>False</td>\n",
       "    </tr>\n",
       "    <tr>\n",
       "      <th>2</th>\n",
       "      <td>b'free_speaker(void)\\n{\\n   if(Lengths)\\n     ...</td>\n",
       "      <td>False</td>\n",
       "      <td>False</td>\n",
       "      <td>False</td>\n",
       "      <td>False</td>\n",
       "      <td>False</td>\n",
       "    </tr>\n",
       "    <tr>\n",
       "      <th>3</th>\n",
       "      <td>b'mlx4_register_device(struct mlx4_dev *dev)\\n...</td>\n",
       "      <td>False</td>\n",
       "      <td>False</td>\n",
       "      <td>False</td>\n",
       "      <td>False</td>\n",
       "      <td>False</td>\n",
       "    </tr>\n",
       "    <tr>\n",
       "      <th>4</th>\n",
       "      <td>b'Parse_Env_Var(void)\\n{\\n  char *p = getenv(\"...</td>\n",
       "      <td>True</td>\n",
       "      <td>True</td>\n",
       "      <td>False</td>\n",
       "      <td>False</td>\n",
       "      <td>True</td>\n",
       "    </tr>\n",
       "  </tbody>\n",
       "</table>\n",
       "</div>"
      ],
      "text/plain": [
       "                                                code  CWE-119  CWE-120  \\\n",
       "0  b'clear_area(int startx, int starty, int xsize...    False    False   \n",
       "1  b'ReconstructDuList(Statement* head)\\n{\\n    S...    False    False   \n",
       "2  b'free_speaker(void)\\n{\\n   if(Lengths)\\n     ...    False    False   \n",
       "3  b'mlx4_register_device(struct mlx4_dev *dev)\\n...    False    False   \n",
       "4  b'Parse_Env_Var(void)\\n{\\n  char *p = getenv(\"...     True     True   \n",
       "\n",
       "   CWE-469  CWE-476  CWE-OTHERS  \n",
       "0    False    False       False  \n",
       "1    False    False       False  \n",
       "2    False    False       False  \n",
       "3    False    False       False  \n",
       "4    False    False        True  "
      ]
     },
     "execution_count": 11,
     "metadata": {},
     "output_type": "execute_result"
    }
   ],
   "source": [
    "test.head()"
   ]
  }
 ],
 "metadata": {
  "kernelspec": {
   "display_name": "Python 3",
   "language": "python",
   "name": "python3"
  },
  "language_info": {
   "codemirror_mode": {
    "name": "ipython",
    "version": 3
   },
   "file_extension": ".py",
   "mimetype": "text/x-python",
   "name": "python",
   "nbconvert_exporter": "python",
   "pygments_lexer": "ipython3",
   "version": "3.11.9"
  }
 },
 "nbformat": 4,
 "nbformat_minor": 2
}
