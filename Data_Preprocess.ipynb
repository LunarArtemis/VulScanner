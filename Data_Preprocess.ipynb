{
 "cells": [
  {
   "cell_type": "code",
   "execution_count": 1,
   "metadata": {},
   "outputs": [],
   "source": [
    "# load hdf5 file and plot the data\n",
    "import h5py\n",
    "import numpy as np\n",
    "import matplotlib.pyplot as plt\n",
    "import pandas as pd\n",
    "import os\n",
    "import sys\n",
    "from imblearn.under_sampling import TomekLinks, ClusterCentroids"
   ]
  },
  {
   "cell_type": "code",
   "execution_count": 2,
   "metadata": {},
   "outputs": [],
   "source": [
    "vdisc_train_raw = h5py.File('Datasets/VDISC_train.hdf5')\n",
    "vdisc_test_raw = h5py.File('Datasets/VDISC_test.hdf5')\n",
    "vdisc_valid_raw = h5py.File('Datasets/VDISC_validate.hdf5')"
   ]
  },
  {
   "cell_type": "code",
   "execution_count": 3,
   "metadata": {},
   "outputs": [],
   "source": [
    "# Convert hdf5 to pandas dataframe\n",
    "def hdf5_to_df(hdf5_file):\n",
    "    data_frame = {\n",
    "        'code': hdf5_file['functionSource'],\n",
    "        'CWE-119': hdf5_file['CWE-119'],\n",
    "        'CWE-120': hdf5_file['CWE-120'],\n",
    "        'CWE-469': hdf5_file['CWE-469'],\n",
    "        'CWE-476': hdf5_file['CWE-476'],\n",
    "        'CWE-OTHERS': hdf5_file['CWE-other'],\n",
    "    }\n",
    "    return pd.DataFrame(data=data_frame)"
   ]
  },
  {
   "cell_type": "code",
   "execution_count": 4,
   "metadata": {},
   "outputs": [],
   "source": [
    "vdisc_train = hdf5_to_df(vdisc_train_raw)\n",
    "vdisc_test = hdf5_to_df(vdisc_test_raw)\n",
    "vdisc_valid = hdf5_to_df(vdisc_valid_raw)"
   ]
  },
  {
   "cell_type": "code",
   "execution_count": 5,
   "metadata": {},
   "outputs": [
    {
     "data": {
      "text/html": [
       "<div>\n",
       "<style scoped>\n",
       "    .dataframe tbody tr th:only-of-type {\n",
       "        vertical-align: middle;\n",
       "    }\n",
       "\n",
       "    .dataframe tbody tr th {\n",
       "        vertical-align: top;\n",
       "    }\n",
       "\n",
       "    .dataframe thead th {\n",
       "        text-align: right;\n",
       "    }\n",
       "</style>\n",
       "<table border=\"1\" class=\"dataframe\">\n",
       "  <thead>\n",
       "    <tr style=\"text-align: right;\">\n",
       "      <th></th>\n",
       "      <th>code</th>\n",
       "      <th>CWE-119</th>\n",
       "      <th>CWE-120</th>\n",
       "      <th>CWE-469</th>\n",
       "      <th>CWE-476</th>\n",
       "      <th>CWE-OTHERS</th>\n",
       "    </tr>\n",
       "  </thead>\n",
       "  <tbody>\n",
       "    <tr>\n",
       "      <th>0</th>\n",
       "      <td>b'clear_area(int startx, int starty, int xsize...</td>\n",
       "      <td>False</td>\n",
       "      <td>False</td>\n",
       "      <td>False</td>\n",
       "      <td>False</td>\n",
       "      <td>False</td>\n",
       "    </tr>\n",
       "    <tr>\n",
       "      <th>1</th>\n",
       "      <td>b'ReconstructDuList(Statement* head)\\n{\\n    S...</td>\n",
       "      <td>False</td>\n",
       "      <td>False</td>\n",
       "      <td>False</td>\n",
       "      <td>False</td>\n",
       "      <td>False</td>\n",
       "    </tr>\n",
       "    <tr>\n",
       "      <th>2</th>\n",
       "      <td>b'free_speaker(void)\\n{\\n   if(Lengths)\\n     ...</td>\n",
       "      <td>False</td>\n",
       "      <td>False</td>\n",
       "      <td>False</td>\n",
       "      <td>False</td>\n",
       "      <td>False</td>\n",
       "    </tr>\n",
       "    <tr>\n",
       "      <th>3</th>\n",
       "      <td>b'mlx4_register_device(struct mlx4_dev *dev)\\n...</td>\n",
       "      <td>False</td>\n",
       "      <td>False</td>\n",
       "      <td>False</td>\n",
       "      <td>False</td>\n",
       "      <td>False</td>\n",
       "    </tr>\n",
       "    <tr>\n",
       "      <th>4</th>\n",
       "      <td>b'Parse_Env_Var(void)\\n{\\n  char *p = getenv(\"...</td>\n",
       "      <td>True</td>\n",
       "      <td>True</td>\n",
       "      <td>False</td>\n",
       "      <td>False</td>\n",
       "      <td>True</td>\n",
       "    </tr>\n",
       "  </tbody>\n",
       "</table>\n",
       "</div>"
      ],
      "text/plain": [
       "                                                code  CWE-119  CWE-120  \\\n",
       "0  b'clear_area(int startx, int starty, int xsize...    False    False   \n",
       "1  b'ReconstructDuList(Statement* head)\\n{\\n    S...    False    False   \n",
       "2  b'free_speaker(void)\\n{\\n   if(Lengths)\\n     ...    False    False   \n",
       "3  b'mlx4_register_device(struct mlx4_dev *dev)\\n...    False    False   \n",
       "4  b'Parse_Env_Var(void)\\n{\\n  char *p = getenv(\"...     True     True   \n",
       "\n",
       "   CWE-469  CWE-476  CWE-OTHERS  \n",
       "0    False    False       False  \n",
       "1    False    False       False  \n",
       "2    False    False       False  \n",
       "3    False    False       False  \n",
       "4    False    False        True  "
      ]
     },
     "execution_count": 5,
     "metadata": {},
     "output_type": "execute_result"
    }
   ],
   "source": [
    "vdisc_train.head()"
   ]
  },
  {
   "cell_type": "code",
   "execution_count": 6,
   "metadata": {},
   "outputs": [
    {
     "name": "stdout",
     "output_type": "stream",
     "text": [
      "<class 'pandas.core.frame.DataFrame'>\n",
      "RangeIndex: 1019471 entries, 0 to 1019470\n",
      "Data columns (total 6 columns):\n",
      " #   Column      Non-Null Count    Dtype \n",
      "---  ------      --------------    ----- \n",
      " 0   code        1019471 non-null  object\n",
      " 1   CWE-119     1019471 non-null  bool  \n",
      " 2   CWE-120     1019471 non-null  bool  \n",
      " 3   CWE-469     1019471 non-null  bool  \n",
      " 4   CWE-476     1019471 non-null  bool  \n",
      " 5   CWE-OTHERS  1019471 non-null  bool  \n",
      "dtypes: bool(5), object(1)\n",
      "memory usage: 12.6+ MB\n"
     ]
    }
   ],
   "source": [
    "vdisc_train.info()"
   ]
  },
  {
   "cell_type": "code",
   "execution_count": 7,
   "metadata": {},
   "outputs": [
    {
     "name": "stdout",
     "output_type": "stream",
     "text": [
      "<class 'pandas.core.frame.DataFrame'>\n",
      "RangeIndex: 1274366 entries, 0 to 1274365\n",
      "Data columns (total 6 columns):\n",
      " #   Column      Non-Null Count    Dtype \n",
      "---  ------      --------------    ----- \n",
      " 0   code        1274366 non-null  object\n",
      " 1   CWE-119     1274366 non-null  bool  \n",
      " 2   CWE-120     1274366 non-null  bool  \n",
      " 3   CWE-469     1274366 non-null  bool  \n",
      " 4   CWE-476     1274366 non-null  bool  \n",
      " 5   CWE-OTHERS  1274366 non-null  bool  \n",
      "dtypes: bool(5), object(1)\n",
      "memory usage: 15.8+ MB\n"
     ]
    }
   ],
   "source": [
    "# Combine the three datasets\n",
    "vdisc = pd.concat([vdisc_train, vdisc_test, vdisc_valid], ignore_index=True)\n",
    "vdisc.info()"
   ]
  },
  {
   "cell_type": "code",
   "execution_count": 8,
   "metadata": {},
   "outputs": [
    {
     "name": "stderr",
     "output_type": "stream",
     "text": [
      "C:\\Users\\ireen\\AppData\\Local\\Temp\\ipykernel_22020\\4044570632.py:2: FutureWarning: DataFrame.applymap has been deprecated. Use DataFrame.map instead.\n",
      "  vdisc = vdisc.applymap(lambda x: x.decode('utf-8').strip(\"b'\") if isinstance(x, bytes) else x)\n"
     ]
    },
    {
     "data": {
      "text/html": [
       "<div>\n",
       "<style scoped>\n",
       "    .dataframe tbody tr th:only-of-type {\n",
       "        vertical-align: middle;\n",
       "    }\n",
       "\n",
       "    .dataframe tbody tr th {\n",
       "        vertical-align: top;\n",
       "    }\n",
       "\n",
       "    .dataframe thead th {\n",
       "        text-align: right;\n",
       "    }\n",
       "</style>\n",
       "<table border=\"1\" class=\"dataframe\">\n",
       "  <thead>\n",
       "    <tr style=\"text-align: right;\">\n",
       "      <th></th>\n",
       "      <th>code</th>\n",
       "      <th>CWE-119</th>\n",
       "      <th>CWE-120</th>\n",
       "      <th>CWE-469</th>\n",
       "      <th>CWE-476</th>\n",
       "      <th>CWE-OTHERS</th>\n",
       "    </tr>\n",
       "  </thead>\n",
       "  <tbody>\n",
       "    <tr>\n",
       "      <th>0</th>\n",
       "      <td>clear_area(int startx, int starty, int xsize, ...</td>\n",
       "      <td>False</td>\n",
       "      <td>False</td>\n",
       "      <td>False</td>\n",
       "      <td>False</td>\n",
       "      <td>False</td>\n",
       "    </tr>\n",
       "    <tr>\n",
       "      <th>1</th>\n",
       "      <td>ReconstructDuList(Statement* head)\\n{\\n    Sta...</td>\n",
       "      <td>False</td>\n",
       "      <td>False</td>\n",
       "      <td>False</td>\n",
       "      <td>False</td>\n",
       "      <td>False</td>\n",
       "    </tr>\n",
       "    <tr>\n",
       "      <th>2</th>\n",
       "      <td>free_speaker(void)\\n{\\n   if(Lengths)\\n       ...</td>\n",
       "      <td>False</td>\n",
       "      <td>False</td>\n",
       "      <td>False</td>\n",
       "      <td>False</td>\n",
       "      <td>False</td>\n",
       "    </tr>\n",
       "    <tr>\n",
       "      <th>3</th>\n",
       "      <td>mlx4_register_device(struct mlx4_dev *dev)\\n{\\...</td>\n",
       "      <td>False</td>\n",
       "      <td>False</td>\n",
       "      <td>False</td>\n",
       "      <td>False</td>\n",
       "      <td>False</td>\n",
       "    </tr>\n",
       "    <tr>\n",
       "      <th>4</th>\n",
       "      <td>Parse_Env_Var(void)\\n{\\n  char *p = getenv(\"LI...</td>\n",
       "      <td>True</td>\n",
       "      <td>True</td>\n",
       "      <td>False</td>\n",
       "      <td>False</td>\n",
       "      <td>True</td>\n",
       "    </tr>\n",
       "  </tbody>\n",
       "</table>\n",
       "</div>"
      ],
      "text/plain": [
       "                                                code  CWE-119  CWE-120  \\\n",
       "0  clear_area(int startx, int starty, int xsize, ...    False    False   \n",
       "1  ReconstructDuList(Statement* head)\\n{\\n    Sta...    False    False   \n",
       "2  free_speaker(void)\\n{\\n   if(Lengths)\\n       ...    False    False   \n",
       "3  mlx4_register_device(struct mlx4_dev *dev)\\n{\\...    False    False   \n",
       "4  Parse_Env_Var(void)\\n{\\n  char *p = getenv(\"LI...     True     True   \n",
       "\n",
       "   CWE-469  CWE-476  CWE-OTHERS  \n",
       "0    False    False       False  \n",
       "1    False    False       False  \n",
       "2    False    False       False  \n",
       "3    False    False       False  \n",
       "4    False    False        True  "
      ]
     },
     "execution_count": 8,
     "metadata": {},
     "output_type": "execute_result"
    }
   ],
   "source": [
    "# Convert byte strings to normal strings and remove leading/trailing b' and '\n",
    "vdisc = vdisc.applymap(lambda x: x.decode('utf-8').strip(\"b'\") if isinstance(x, bytes) else x)\n",
    "\n",
    "# Check the cleaned data\n",
    "vdisc.head()"
   ]
  },
  {
   "cell_type": "code",
   "execution_count": 9,
   "metadata": {},
   "outputs": [
    {
     "name": "stdout",
     "output_type": "stream",
     "text": [
      "<class 'pandas.core.frame.DataFrame'>\n",
      "RangeIndex: 1274366 entries, 0 to 1274365\n",
      "Data columns (total 6 columns):\n",
      " #   Column      Non-Null Count    Dtype \n",
      "---  ------      --------------    ----- \n",
      " 0   code        1274366 non-null  object\n",
      " 1   CWE-119     1274366 non-null  bool  \n",
      " 2   CWE-120     1274366 non-null  bool  \n",
      " 3   CWE-469     1274366 non-null  bool  \n",
      " 4   CWE-476     1274366 non-null  bool  \n",
      " 5   CWE-OTHERS  1274366 non-null  bool  \n",
      "dtypes: bool(5), object(1)\n",
      "memory usage: 15.8+ MB\n"
     ]
    }
   ],
   "source": [
    "vdisc.info()"
   ]
  },
  {
   "cell_type": "markdown",
   "metadata": {},
   "source": [
    "### Separate the data into each CWE"
   ]
  },
  {
   "cell_type": "code",
   "execution_count": 10,
   "metadata": {},
   "outputs": [
    {
     "name": "stdout",
     "output_type": "stream",
     "text": [
      "<class 'pandas.core.frame.DataFrame'>\n",
      "RangeIndex: 1274366 entries, 0 to 1274365\n",
      "Data columns (total 2 columns):\n",
      " #   Column   Non-Null Count    Dtype \n",
      "---  ------   --------------    ----- \n",
      " 0   code     1274366 non-null  object\n",
      " 1   CWE-119  1274366 non-null  bool  \n",
      "dtypes: bool(1), object(1)\n",
      "memory usage: 10.9+ MB\n"
     ]
    }
   ],
   "source": [
    "# CWE-119\n",
    "drop_cols = ['CWE-120', 'CWE-469', 'CWE-476', 'CWE-OTHERS']\n",
    "cwe_119_df = vdisc.drop(columns=drop_cols, axis=1)\n",
    "cwe_119_df.info()"
   ]
  },
  {
   "cell_type": "code",
   "execution_count": 11,
   "metadata": {},
   "outputs": [
    {
     "name": "stdout",
     "output_type": "stream",
     "text": [
      "<class 'pandas.core.frame.DataFrame'>\n",
      "RangeIndex: 1274366 entries, 0 to 1274365\n",
      "Data columns (total 2 columns):\n",
      " #   Column   Non-Null Count    Dtype \n",
      "---  ------   --------------    ----- \n",
      " 0   code     1274366 non-null  object\n",
      " 1   CWE-120  1274366 non-null  bool  \n",
      "dtypes: bool(1), object(1)\n",
      "memory usage: 10.9+ MB\n"
     ]
    }
   ],
   "source": [
    "# CWE-120\n",
    "drop_cols = ['CWE-119', 'CWE-469', 'CWE-476', 'CWE-OTHERS']\n",
    "cwe_120_df = vdisc.drop(columns=drop_cols, axis=1)\n",
    "cwe_120_df.info()"
   ]
  },
  {
   "cell_type": "code",
   "execution_count": 12,
   "metadata": {},
   "outputs": [
    {
     "name": "stdout",
     "output_type": "stream",
     "text": [
      "<class 'pandas.core.frame.DataFrame'>\n",
      "RangeIndex: 1274366 entries, 0 to 1274365\n",
      "Data columns (total 2 columns):\n",
      " #   Column   Non-Null Count    Dtype \n",
      "---  ------   --------------    ----- \n",
      " 0   code     1274366 non-null  object\n",
      " 1   CWE-469  1274366 non-null  bool  \n",
      "dtypes: bool(1), object(1)\n",
      "memory usage: 10.9+ MB\n"
     ]
    }
   ],
   "source": [
    "# CWE-469\n",
    "drop_cols = ['CWE-119', 'CWE-120', 'CWE-476', 'CWE-OTHERS']\n",
    "cwe_469_df = vdisc.drop(columns=drop_cols, axis=1)\n",
    "cwe_469_df.info()"
   ]
  },
  {
   "cell_type": "code",
   "execution_count": 13,
   "metadata": {},
   "outputs": [
    {
     "name": "stdout",
     "output_type": "stream",
     "text": [
      "<class 'pandas.core.frame.DataFrame'>\n",
      "RangeIndex: 1274366 entries, 0 to 1274365\n",
      "Data columns (total 2 columns):\n",
      " #   Column   Non-Null Count    Dtype \n",
      "---  ------   --------------    ----- \n",
      " 0   code     1274366 non-null  object\n",
      " 1   CWE-476  1274366 non-null  bool  \n",
      "dtypes: bool(1), object(1)\n",
      "memory usage: 10.9+ MB\n"
     ]
    }
   ],
   "source": [
    "# CWE-476\n",
    "drop_cols = ['CWE-119', 'CWE-120', 'CWE-469', 'CWE-OTHERS']\n",
    "cwe_476_df = vdisc.drop(columns=drop_cols, axis=1)\n",
    "cwe_476_df.info()"
   ]
  },
  {
   "cell_type": "code",
   "execution_count": 14,
   "metadata": {},
   "outputs": [
    {
     "name": "stdout",
     "output_type": "stream",
     "text": [
      "<class 'pandas.core.frame.DataFrame'>\n",
      "RangeIndex: 1274366 entries, 0 to 1274365\n",
      "Data columns (total 2 columns):\n",
      " #   Column      Non-Null Count    Dtype \n",
      "---  ------      --------------    ----- \n",
      " 0   code        1274366 non-null  object\n",
      " 1   CWE-OTHERS  1274366 non-null  bool  \n",
      "dtypes: bool(1), object(1)\n",
      "memory usage: 10.9+ MB\n"
     ]
    }
   ],
   "source": [
    "# CWE-OTHERS\n",
    "drop_cols = ['CWE-119', 'CWE-120', 'CWE-469', 'CWE-476']\n",
    "cwe_others_df = vdisc.drop(columns=drop_cols, axis=1)\n",
    "cwe_others_df.info()"
   ]
  },
  {
   "cell_type": "markdown",
   "metadata": {},
   "source": [
    "### Checking True Positive and False Positive for each CWE"
   ]
  },
  {
   "cell_type": "code",
   "execution_count": 15,
   "metadata": {},
   "outputs": [
    {
     "name": "stdout",
     "output_type": "stream",
     "text": [
      "CWE-119\n",
      "False    1250209\n",
      "True       24157\n",
      "Name: count, dtype: int64\n"
     ]
    },
    {
     "data": {
      "image/png": "[encoded data removed]",
      "text/plain": [
       "<Figure size 640x480 with 1 Axes>"
      ]
     },
     "metadata": {},
     "output_type": "display_data"
    }
   ],
   "source": [
    "# Plot the distribution of CWE-119 vulnerabilities\n",
    "counts = cwe_119_df['CWE-119'].value_counts()\n",
    "ax = counts.plot(kind='bar', color=['orange', 'blue'])\n",
    "plt.xticks(rotation=0)\n",
    "plt.title('Distribution of CWE-119 Vulnerabilities')\n",
    "plt.xlabel('Vulnerability Present')\n",
    "plt.ylabel('Count')\n",
    "\n",
    "# Add count labels on top of each bar\n",
    "for i, v in enumerate(counts):\n",
    "    ax.text(i, v, str(v), ha='center', va='bottom')\n",
    "print(counts)\n",
    "plt.show()"
   ]
  },
  {
   "cell_type": "code",
   "execution_count": 16,
   "metadata": {},
   "outputs": [
    {
     "name": "stdout",
     "output_type": "stream",
     "text": [
      "CWE-120\n",
      "False    1226706\n",
      "True       47660\n",
      "Name: count, dtype: int64\n"
     ]
    },
    {
     "data": {
      "image/png": "[encoded data removed]",
      "text/plain": [
       "<Figure size 640x480 with 1 Axes>"
      ]
     },
     "metadata": {},
     "output_type": "display_data"
    }
   ],
   "source": [
    "# Plot the distribution of CWE-120 vulnerabilities\n",
    "counts = cwe_120_df['CWE-120'].value_counts()\n",
    "ax = counts.plot(kind='bar', color=['orange', 'blue'])\n",
    "plt.xticks(rotation=0)\n",
    "plt.title('Distribution of CWE-120 Vulnerabilities')\n",
    "plt.xlabel('Vulnerability Present')\n",
    "plt.ylabel('Count')\n",
    "\n",
    "# Add count labels on top of each bar\n",
    "for i, v in enumerate(counts):\n",
    "    ax.text(i, v, str(v), ha='center', va='bottom')\n",
    "print(counts)\n",
    "plt.show()"
   ]
  },
  {
   "cell_type": "code",
   "execution_count": 17,
   "metadata": {},
   "outputs": [
    {
     "name": "stdout",
     "output_type": "stream",
     "text": [
      "CWE-469\n",
      "False    1271741\n",
      "True        2625\n",
      "Name: count, dtype: int64\n"
     ]
    },
    {
     "data": {
      "image/png": "[encoded data removed]",
      "text/plain": [
       "<Figure size 640x480 with 1 Axes>"
      ]
     },
     "metadata": {},
     "output_type": "display_data"
    }
   ],
   "source": [
    "# Plot the distribution of CWE-469 vulnerabilities\n",
    "counts = cwe_469_df['CWE-469'].value_counts()\n",
    "ax = counts.plot(kind='bar', color=['orange', 'blue'])\n",
    "plt.xticks(rotation=0)\n",
    "plt.title('Distribution of CWE-469 Vulnerabilities')\n",
    "plt.xlabel('Vulnerability Present')\n",
    "plt.ylabel('Count')\n",
    "\n",
    "# Add count labels on top of each bar\n",
    "for i, v in enumerate(counts):\n",
    "    ax.text(i, v, str(v), ha='center', va='bottom')\n",
    "print(counts)\n",
    "plt.show()"
   ]
  },
  {
   "cell_type": "code",
   "execution_count": 18,
   "metadata": {},
   "outputs": [
    {
     "name": "stdout",
     "output_type": "stream",
     "text": [
      "CWE-476\n",
      "False    1262272\n",
      "True       12094\n",
      "Name: count, dtype: int64\n"
     ]
    },
    {
     "data": {
      "image/png": "[encoded data removed]",
      "text/plain": [
       "<Figure size 640x480 with 1 Axes>"
      ]
     },
     "metadata": {},
     "output_type": "display_data"
    }
   ],
   "source": [
    "# Plot the distribution of CWE-476 vulnerabilities\n",
    "counts = cwe_476_df['CWE-476'].value_counts()\n",
    "ax = counts.plot(kind='bar', color=['orange', 'blue'])\n",
    "plt.xticks(rotation=0)\n",
    "plt.title('Distribution of CWE-476 Vulnerabilities')\n",
    "plt.xlabel('Vulnerability Present')\n",
    "plt.ylabel('Count')\n",
    "\n",
    "# Add count labels on top of each bar\n",
    "for i, v in enumerate(counts):\n",
    "    ax.text(i, v, str(v), ha='center', va='bottom')\n",
    "print(counts)  \n",
    "plt.show()"
   ]
  },
  {
   "cell_type": "code",
   "execution_count": 19,
   "metadata": {},
   "outputs": [
    {
     "name": "stdout",
     "output_type": "stream",
     "text": [
      "CWE-OTHERS\n",
      "False    1239338\n",
      "True       35028\n",
      "Name: count, dtype: int64\n"
     ]
    },
    {
     "data": {
      "image/png": "[encoded data removed]",
      "text/plain": [
       "<Figure size 640x480 with 1 Axes>"
      ]
     },
     "metadata": {},
     "output_type": "display_data"
    }
   ],
   "source": [
    "# Plot the distribution of CWE-OTHERS vulnerabilities\n",
    "counts = cwe_others_df['CWE-OTHERS'].value_counts()\n",
    "ax = counts.plot(kind='bar', color=['orange', 'blue'])\n",
    "plt.xticks(rotation=0)\n",
    "plt.title('Distribution of CWE-OTHERS Vulnerabilities')\n",
    "plt.xlabel('Vulnerability Present')\n",
    "plt.ylabel('Count')\n",
    "\n",
    "# Add count labels on top of each bar\n",
    "for i, v in enumerate(counts):\n",
    "    ax.text(i, v, str(v), ha='center', va='bottom')\n",
    "print(counts)\n",
    "plt.show()"
   ]
  },
  {
   "cell_type": "markdown",
   "metadata": {},
   "source": [
    "### Balancing the data for each CWE using random undersampling technique"
   ]
  },
  {
   "cell_type": "code",
   "execution_count": 20,
   "metadata": {},
   "outputs": [],
   "source": [
    "# Randomly undersampling\n",
    "\n",
    "def under_sampling(dataframe, vulnType, samples=None):\n",
    "    shuffled_df = dataframe.sample(frac=1, random_state=4)\n",
    "\n",
    "    # Separate vulnerable and non-vulnerable samples\n",
    "    vul_df = shuffled_df[shuffled_df[vulnType] == True]\n",
    "    \n",
    "    # Set samples to match vulnerable count if not provided\n",
    "    if samples is None:\n",
    "        samples = len(vul_df)\n",
    "\n",
    "    # Randomly undersample the majority class\n",
    "    non_vul_df = shuffled_df[shuffled_df[vulnType] == 0].sample(n=samples, random_state=42)\n",
    "\n",
    "    # Concatenate the two dataframes\n",
    "    balanced_df = pd.concat([vul_df, non_vul_df]).sample(frac=1, random_state=4).reset_index(drop=True)\n",
    "\n",
    "    return balanced_df"
   ]
  },
  {
   "cell_type": "code",
   "execution_count": 21,
   "metadata": {},
   "outputs": [
    {
     "data": {
      "text/plain": [
       "\"\\n\\ndef undersample_cluster(dataframe, vulnType):\\n    X = dataframe.drop(columns=[vulnType])  # Features\\n    y = dataframe[vulnType]  # Labels\\n    \\n    # Apply ClusterCentroids\\n    undersampler = ClusterCentroids(sampling_strategy='auto', random_state=42)\\n    X_resampled, y_resampled = undersampler.fit_resample(X, y)\\n    \\n    # Recreate DataFrame\\n    balanced_df = pd.DataFrame(X_resampled, columns=X.columns)\\n    balanced_df[vulnType] = y_resampled\\n\\n    return balanced_df\\n\\n\""
      ]
     },
     "execution_count": 21,
     "metadata": {},
     "output_type": "execute_result"
    }
   ],
   "source": [
    "# ClusterCentroids undersampling\n",
    "\n",
    "\"\"\"\n",
    "\n",
    "def undersample_cluster(dataframe, vulnType):\n",
    "    X = dataframe.drop(columns=[vulnType])  # Features\n",
    "    y = dataframe[vulnType]  # Labels\n",
    "    \n",
    "    # Apply ClusterCentroids\n",
    "    undersampler = ClusterCentroids(sampling_strategy='auto', random_state=42)\n",
    "    X_resampled, y_resampled = undersampler.fit_resample(X, y)\n",
    "    \n",
    "    # Recreate DataFrame\n",
    "    balanced_df = pd.DataFrame(X_resampled, columns=X.columns)\n",
    "    balanced_df[vulnType] = y_resampled\n",
    "\n",
    "    return balanced_df\n",
    "\n",
    "\"\"\""
   ]
  },
  {
   "cell_type": "code",
   "execution_count": 22,
   "metadata": {},
   "outputs": [],
   "source": [
    "# Apply undersampling to the datasets\n",
    "normalize_CWE_119 = under_sampling(cwe_119_df, 'CWE-119')\n",
    "nomarlize_CWE_120 = under_sampling(cwe_120_df, 'CWE-120')\n",
    "normalize_CWE_469 = under_sampling(cwe_469_df, 'CWE-469')\n",
    "normalize_CWE_476 = under_sampling(cwe_476_df, 'CWE-476')\n",
    "normalize_CWE_others = under_sampling(cwe_others_df, 'CWE-OTHERS')"
   ]
  },
  {
   "cell_type": "code",
   "execution_count": 23,
   "metadata": {},
   "outputs": [],
   "source": [
    "# Reset the index\n",
    "normalize_CWE_119.reset_index(inplace=True)\n",
    "nomarlize_CWE_120.reset_index(inplace=True)\n",
    "normalize_CWE_469.reset_index(inplace=True)\n",
    "normalize_CWE_476.reset_index(inplace=True)\n",
    "normalize_CWE_others.reset_index(inplace=True)"
   ]
  },
  {
   "cell_type": "code",
   "execution_count": 24,
   "metadata": {},
   "outputs": [],
   "source": [
    "# Add type column to the datasets\n",
    "normalize_CWE_119['type'] = 'CWE-119'\n",
    "nomarlize_CWE_120['type'] = 'CWE-120'\n",
    "normalize_CWE_469['type'] = 'CWE-469'\n",
    "normalize_CWE_476['type'] = 'CWE-476'\n",
    "normalize_CWE_others['type'] = 'CWE-OTHERS'"
   ]
  },
  {
   "cell_type": "code",
   "execution_count": 25,
   "metadata": {},
   "outputs": [],
   "source": [
    "# Rename the columns\n",
    "normalize_CWE_119.columns = ['testID', 'code', 'vuln', 'type']\n",
    "nomarlize_CWE_120.columns = ['testID', 'code', 'vuln', 'type']\n",
    "normalize_CWE_469.columns = ['testID', 'code', 'vuln', 'type']\n",
    "normalize_CWE_476.columns = ['testID', 'code', 'vuln', 'type']\n",
    "normalize_CWE_others.columns = ['testID', 'code', 'vuln', 'type']"
   ]
  },
  {
   "cell_type": "code",
   "execution_count": 26,
   "metadata": {},
   "outputs": [],
   "source": [
    "normalize_CWE_119['testID'] = normalize_CWE_119.index\n",
    "nomarlize_CWE_120['testID'] = nomarlize_CWE_120.index\n",
    "normalize_CWE_469['testID'] = normalize_CWE_469.index\n",
    "normalize_CWE_476['testID'] = normalize_CWE_476.index\n",
    "normalize_CWE_others['testID'] = normalize_CWE_others.index"
   ]
  },
  {
   "cell_type": "code",
   "execution_count": 27,
   "metadata": {},
   "outputs": [
    {
     "name": "stdout",
     "output_type": "stream",
     "text": [
      "<class 'pandas.core.frame.DataFrame'>\n",
      "RangeIndex: 48314 entries, 0 to 48313\n",
      "Data columns (total 4 columns):\n",
      " #   Column  Non-Null Count  Dtype \n",
      "---  ------  --------------  ----- \n",
      " 0   testID  48314 non-null  int64 \n",
      " 1   code    48314 non-null  object\n",
      " 2   vuln    48314 non-null  bool  \n",
      " 3   type    48314 non-null  object\n",
      "dtypes: bool(1), int64(1), object(2)\n",
      "memory usage: 1.2+ MB\n"
     ]
    }
   ],
   "source": [
    "normalize_CWE_119.info()"
   ]
  },
  {
   "cell_type": "markdown",
   "metadata": {},
   "source": [
    "Adding a \"filename\" column to each dataframe, which should be a string or object needed as input for the Clang parser used later in \"AST_extracting.ipynb\""
   ]
  },
  {
   "cell_type": "code",
   "execution_count": 28,
   "metadata": {},
   "outputs": [],
   "source": [
    "# Add filename column to each normalized dataframe\n",
    "def add_filename_column(df, prefix):\n",
    "    # insert filename column after testID\n",
    "    df.insert(1, 'filename', prefix + '_' + df['testID'].astype(str) + '.c')\n",
    "    return df\n",
    "\n",
    "normalize_CWE_119 = add_filename_column(normalize_CWE_119, \"cwe119\")\n",
    "nomarlize_CWE_120 = add_filename_column(nomarlize_CWE_120, \"cwe120\") \n",
    "normalize_CWE_469 = add_filename_column(normalize_CWE_469, \"cwe469\")\n",
    "normalize_CWE_476 = add_filename_column(normalize_CWE_476, \"cwe476\")\n",
    "normalize_CWE_others = add_filename_column(normalize_CWE_others, \"cweother\")"
   ]
  },
  {
   "cell_type": "code",
   "execution_count": 43,
   "metadata": {},
   "outputs": [
    {
     "data": {
      "text/html": [
       "<div>\n",
       "<style scoped>\n",
       "    .dataframe tbody tr th:only-of-type {\n",
       "        vertical-align: middle;\n",
       "    }\n",
       "\n",
       "    .dataframe tbody tr th {\n",
       "        vertical-align: top;\n",
       "    }\n",
       "\n",
       "    .dataframe thead th {\n",
       "        text-align: right;\n",
       "    }\n",
       "</style>\n",
       "<table border=\"1\" class=\"dataframe\">\n",
       "  <thead>\n",
       "    <tr style=\"text-align: right;\">\n",
       "      <th></th>\n",
       "      <th>testID</th>\n",
       "      <th>filename</th>\n",
       "      <th>code</th>\n",
       "      <th>vuln</th>\n",
       "      <th>type</th>\n",
       "    </tr>\n",
       "  </thead>\n",
       "  <tbody>\n",
       "    <tr>\n",
       "      <th>0</th>\n",
       "      <td>0</td>\n",
       "      <td>cwe469_0.c</td>\n",
       "      <td>gretl_list_build (const char *s, const DATASET...</td>\n",
       "      <td>False</td>\n",
       "      <td>CWE-469</td>\n",
       "    </tr>\n",
       "    <tr>\n",
       "      <th>1</th>\n",
       "      <td>1</td>\n",
       "      <td>cwe469_1.c</td>\n",
       "      <td>rd_meta_is_broken(FILE *fp)\\n{\\n    char buf[M...</td>\n",
       "      <td>True</td>\n",
       "      <td>CWE-469</td>\n",
       "    </tr>\n",
       "    <tr>\n",
       "      <th>2</th>\n",
       "      <td>2</td>\n",
       "      <td>cwe469_2.c</td>\n",
       "      <td>load( f_ck_query query_func, t_CKBOOL lazy )\\n...</td>\n",
       "      <td>False</td>\n",
       "      <td>CWE-469</td>\n",
       "    </tr>\n",
       "    <tr>\n",
       "      <th>3</th>\n",
       "      <td>3</td>\n",
       "      <td>cwe469_3.c</td>\n",
       "      <td>checkSupGroups (LDAP * ld)\\n{\\n  LDAPMessage *...</td>\n",
       "      <td>True</td>\n",
       "      <td>CWE-469</td>\n",
       "    </tr>\n",
       "    <tr>\n",
       "      <th>4</th>\n",
       "      <td>4</td>\n",
       "      <td>cwe469_4.c</td>\n",
       "      <td>dht_getxattr_unwind (call_frame_t *frame,\\n   ...</td>\n",
       "      <td>False</td>\n",
       "      <td>CWE-469</td>\n",
       "    </tr>\n",
       "  </tbody>\n",
       "</table>\n",
       "</div>"
      ],
      "text/plain": [
       "   testID    filename                                               code  \\\n",
       "0       0  cwe469_0.c  gretl_list_build (const char *s, const DATASET...   \n",
       "1       1  cwe469_1.c  rd_meta_is_broken(FILE *fp)\\n{\\n    char buf[M...   \n",
       "2       2  cwe469_2.c  load( f_ck_query query_func, t_CKBOOL lazy )\\n...   \n",
       "3       3  cwe469_3.c  checkSupGroups (LDAP * ld)\\n{\\n  LDAPMessage *...   \n",
       "4       4  cwe469_4.c  dht_getxattr_unwind (call_frame_t *frame,\\n   ...   \n",
       "\n",
       "    vuln     type  \n",
       "0  False  CWE-469  \n",
       "1   True  CWE-469  \n",
       "2  False  CWE-469  \n",
       "3   True  CWE-469  \n",
       "4  False  CWE-469  "
      ]
     },
     "execution_count": 43,
     "metadata": {},
     "output_type": "execute_result"
    }
   ],
   "source": [
    "normalize_CWE_469.head()"
   ]
  },
  {
   "cell_type": "code",
   "execution_count": 44,
   "metadata": {},
   "outputs": [],
   "source": [
    "# Saving the normalized dataframes to csv files\n",
    "normalize_CWE_119.to_csv('Datasets/Normalized_CWE-119.csv.gz', index=False)\n",
    "nomarlize_CWE_120.to_csv('Datasets/Normalized_CWE-120.csv.gz', index=False)\n",
    "normalize_CWE_469.to_csv('Datasets/Normalized_CWE-469.csv.gz', index=False)\n",
    "normalize_CWE_476.to_csv('Datasets/Normalized_CWE-476.csv.gz', index=False)\n",
    "normalize_CWE_others.to_csv('Datasets/Normalized_CWE-OTHERS.csv.gz', index=False)"
   ]
  },
  {
   "cell_type": "markdown",
   "metadata": {},
   "source": [
    "### Combine all the dataframes into one dataframe"
   ]
  },
  {
   "cell_type": "code",
   "execution_count": 31,
   "metadata": {},
   "outputs": [
    {
     "data": {
      "text/html": [
       "<div>\n",
       "<style scoped>\n",
       "    .dataframe tbody tr th:only-of-type {\n",
       "        vertical-align: middle;\n",
       "    }\n",
       "\n",
       "    .dataframe tbody tr th {\n",
       "        vertical-align: top;\n",
       "    }\n",
       "\n",
       "    .dataframe thead th {\n",
       "        text-align: right;\n",
       "    }\n",
       "</style>\n",
       "<table border=\"1\" class=\"dataframe\">\n",
       "  <thead>\n",
       "    <tr style=\"text-align: right;\">\n",
       "      <th></th>\n",
       "      <th>code</th>\n",
       "      <th>CWE-119</th>\n",
       "      <th>CWE-120</th>\n",
       "      <th>CWE-469</th>\n",
       "      <th>CWE-476</th>\n",
       "      <th>CWE-OTHERS</th>\n",
       "    </tr>\n",
       "  </thead>\n",
       "  <tbody>\n",
       "    <tr>\n",
       "      <th>0</th>\n",
       "      <td>clear_area(int startx, int starty, int xsize, ...</td>\n",
       "      <td>False</td>\n",
       "      <td>False</td>\n",
       "      <td>False</td>\n",
       "      <td>False</td>\n",
       "      <td>False</td>\n",
       "    </tr>\n",
       "    <tr>\n",
       "      <th>1</th>\n",
       "      <td>ReconstructDuList(Statement* head)\\n{\\n    Sta...</td>\n",
       "      <td>False</td>\n",
       "      <td>False</td>\n",
       "      <td>False</td>\n",
       "      <td>False</td>\n",
       "      <td>False</td>\n",
       "    </tr>\n",
       "    <tr>\n",
       "      <th>2</th>\n",
       "      <td>free_speaker(void)\\n{\\n   if(Lengths)\\n       ...</td>\n",
       "      <td>False</td>\n",
       "      <td>False</td>\n",
       "      <td>False</td>\n",
       "      <td>False</td>\n",
       "      <td>False</td>\n",
       "    </tr>\n",
       "    <tr>\n",
       "      <th>3</th>\n",
       "      <td>mlx4_register_device(struct mlx4_dev *dev)\\n{\\...</td>\n",
       "      <td>False</td>\n",
       "      <td>False</td>\n",
       "      <td>False</td>\n",
       "      <td>False</td>\n",
       "      <td>False</td>\n",
       "    </tr>\n",
       "    <tr>\n",
       "      <th>4</th>\n",
       "      <td>Parse_Env_Var(void)\\n{\\n  char *p = getenv(\"LI...</td>\n",
       "      <td>True</td>\n",
       "      <td>True</td>\n",
       "      <td>False</td>\n",
       "      <td>False</td>\n",
       "      <td>True</td>\n",
       "    </tr>\n",
       "  </tbody>\n",
       "</table>\n",
       "</div>"
      ],
      "text/plain": [
       "                                                code  CWE-119  CWE-120  \\\n",
       "0  clear_area(int startx, int starty, int xsize, ...    False    False   \n",
       "1  ReconstructDuList(Statement* head)\\n{\\n    Sta...    False    False   \n",
       "2  free_speaker(void)\\n{\\n   if(Lengths)\\n       ...    False    False   \n",
       "3  mlx4_register_device(struct mlx4_dev *dev)\\n{\\...    False    False   \n",
       "4  Parse_Env_Var(void)\\n{\\n  char *p = getenv(\"LI...     True     True   \n",
       "\n",
       "   CWE-469  CWE-476  CWE-OTHERS  \n",
       "0    False    False       False  \n",
       "1    False    False       False  \n",
       "2    False    False       False  \n",
       "3    False    False       False  \n",
       "4    False    False        True  "
      ]
     },
     "execution_count": 31,
     "metadata": {},
     "output_type": "execute_result"
    }
   ],
   "source": [
    "vdisc.head()"
   ]
  },
  {
   "cell_type": "code",
   "execution_count": 32,
   "metadata": {},
   "outputs": [
    {
     "data": {
      "text/html": [
       "<div>\n",
       "<style scoped>\n",
       "    .dataframe tbody tr th:only-of-type {\n",
       "        vertical-align: middle;\n",
       "    }\n",
       "\n",
       "    .dataframe tbody tr th {\n",
       "        vertical-align: top;\n",
       "    }\n",
       "\n",
       "    .dataframe thead th {\n",
       "        text-align: right;\n",
       "    }\n",
       "</style>\n",
       "<table border=\"1\" class=\"dataframe\">\n",
       "  <thead>\n",
       "    <tr style=\"text-align: right;\">\n",
       "      <th></th>\n",
       "      <th>code</th>\n",
       "      <th>CWE-119</th>\n",
       "      <th>CWE-120</th>\n",
       "      <th>CWE-469</th>\n",
       "      <th>CWE-476</th>\n",
       "      <th>CWE-OTHERS</th>\n",
       "      <th>CWE-COMBINED</th>\n",
       "    </tr>\n",
       "  </thead>\n",
       "  <tbody>\n",
       "    <tr>\n",
       "      <th>0</th>\n",
       "      <td>clear_area(int startx, int starty, int xsize, ...</td>\n",
       "      <td>0</td>\n",
       "      <td>0</td>\n",
       "      <td>0</td>\n",
       "      <td>0</td>\n",
       "      <td>0</td>\n",
       "      <td>False</td>\n",
       "    </tr>\n",
       "    <tr>\n",
       "      <th>1</th>\n",
       "      <td>ReconstructDuList(Statement* head)\\n{\\n    Sta...</td>\n",
       "      <td>0</td>\n",
       "      <td>0</td>\n",
       "      <td>0</td>\n",
       "      <td>0</td>\n",
       "      <td>0</td>\n",
       "      <td>False</td>\n",
       "    </tr>\n",
       "    <tr>\n",
       "      <th>2</th>\n",
       "      <td>free_speaker(void)\\n{\\n   if(Lengths)\\n       ...</td>\n",
       "      <td>0</td>\n",
       "      <td>0</td>\n",
       "      <td>0</td>\n",
       "      <td>0</td>\n",
       "      <td>0</td>\n",
       "      <td>False</td>\n",
       "    </tr>\n",
       "    <tr>\n",
       "      <th>3</th>\n",
       "      <td>mlx4_register_device(struct mlx4_dev *dev)\\n{\\...</td>\n",
       "      <td>0</td>\n",
       "      <td>0</td>\n",
       "      <td>0</td>\n",
       "      <td>0</td>\n",
       "      <td>0</td>\n",
       "      <td>False</td>\n",
       "    </tr>\n",
       "    <tr>\n",
       "      <th>4</th>\n",
       "      <td>Parse_Env_Var(void)\\n{\\n  char *p = getenv(\"LI...</td>\n",
       "      <td>1</td>\n",
       "      <td>1</td>\n",
       "      <td>0</td>\n",
       "      <td>0</td>\n",
       "      <td>1</td>\n",
       "      <td>True</td>\n",
       "    </tr>\n",
       "  </tbody>\n",
       "</table>\n",
       "</div>"
      ],
      "text/plain": [
       "                                                code  CWE-119  CWE-120  \\\n",
       "0  clear_area(int startx, int starty, int xsize, ...        0        0   \n",
       "1  ReconstructDuList(Statement* head)\\n{\\n    Sta...        0        0   \n",
       "2  free_speaker(void)\\n{\\n   if(Lengths)\\n       ...        0        0   \n",
       "3  mlx4_register_device(struct mlx4_dev *dev)\\n{\\...        0        0   \n",
       "4  Parse_Env_Var(void)\\n{\\n  char *p = getenv(\"LI...        1        1   \n",
       "\n",
       "   CWE-469  CWE-476  CWE-OTHERS  CWE-COMBINED  \n",
       "0        0        0           0         False  \n",
       "1        0        0           0         False  \n",
       "2        0        0           0         False  \n",
       "3        0        0           0         False  \n",
       "4        0        0           1          True  "
      ]
     },
     "execution_count": 32,
     "metadata": {},
     "output_type": "execute_result"
    }
   ],
   "source": [
    "vdisc['CWE-COMBINED'] = vdisc[['CWE-119', 'CWE-120', 'CWE-469', 'CWE-476', 'CWE-OTHERS']].any(axis=1)\n",
    "\n",
    "# Convert only boolean columns (excluding CWE-COMBINED) to 0/1\n",
    "for col in vdisc.columns:\n",
    "    if col != 'CWE-COMBINED' and vdisc[col].dtype == 'bool':\n",
    "        vdisc[col] = vdisc[col].astype(int)\n",
    "\n",
    "vdisc.head()"
   ]
  },
  {
   "cell_type": "code",
   "execution_count": 33,
   "metadata": {},
   "outputs": [
    {
     "data": {
      "text/plain": [
       "CWE-COMBINED\n",
       "False    1191955\n",
       "True       82411\n",
       "Name: count, dtype: int64"
      ]
     },
     "execution_count": 33,
     "metadata": {},
     "output_type": "execute_result"
    }
   ],
   "source": [
    "pd.Series(vdisc[\"CWE-COMBINED\"]).value_counts()"
   ]
  },
  {
   "cell_type": "code",
   "execution_count": 34,
   "metadata": {},
   "outputs": [
    {
     "data": {
      "text/html": [
       "<div>\n",
       "<style scoped>\n",
       "    .dataframe tbody tr th:only-of-type {\n",
       "        vertical-align: middle;\n",
       "    }\n",
       "\n",
       "    .dataframe tbody tr th {\n",
       "        vertical-align: top;\n",
       "    }\n",
       "\n",
       "    .dataframe thead th {\n",
       "        text-align: right;\n",
       "    }\n",
       "</style>\n",
       "<table border=\"1\" class=\"dataframe\">\n",
       "  <thead>\n",
       "    <tr style=\"text-align: right;\">\n",
       "      <th></th>\n",
       "      <th>code</th>\n",
       "      <th>CWE-COMBINED</th>\n",
       "    </tr>\n",
       "  </thead>\n",
       "  <tbody>\n",
       "    <tr>\n",
       "      <th>0</th>\n",
       "      <td>clear_area(int startx, int starty, int xsize, ...</td>\n",
       "      <td>False</td>\n",
       "    </tr>\n",
       "    <tr>\n",
       "      <th>1</th>\n",
       "      <td>ReconstructDuList(Statement* head)\\n{\\n    Sta...</td>\n",
       "      <td>False</td>\n",
       "    </tr>\n",
       "    <tr>\n",
       "      <th>2</th>\n",
       "      <td>free_speaker(void)\\n{\\n   if(Lengths)\\n       ...</td>\n",
       "      <td>False</td>\n",
       "    </tr>\n",
       "    <tr>\n",
       "      <th>3</th>\n",
       "      <td>mlx4_register_device(struct mlx4_dev *dev)\\n{\\...</td>\n",
       "      <td>False</td>\n",
       "    </tr>\n",
       "    <tr>\n",
       "      <th>4</th>\n",
       "      <td>Parse_Env_Var(void)\\n{\\n  char *p = getenv(\"LI...</td>\n",
       "      <td>True</td>\n",
       "    </tr>\n",
       "  </tbody>\n",
       "</table>\n",
       "</div>"
      ],
      "text/plain": [
       "                                                code  CWE-COMBINED\n",
       "0  clear_area(int startx, int starty, int xsize, ...         False\n",
       "1  ReconstructDuList(Statement* head)\\n{\\n    Sta...         False\n",
       "2  free_speaker(void)\\n{\\n   if(Lengths)\\n       ...         False\n",
       "3  mlx4_register_device(struct mlx4_dev *dev)\\n{\\...         False\n",
       "4  Parse_Env_Var(void)\\n{\\n  char *p = getenv(\"LI...          True"
      ]
     },
     "execution_count": 34,
     "metadata": {},
     "output_type": "execute_result"
    }
   ],
   "source": [
    "cols_to_drop = [\"CWE-119\", \"CWE-120\" , \"CWE-469\", \"CWE-476\", \"CWE-OTHERS\"]\n",
    "temp = vdisc.drop(columns=cols_to_drop, axis=1)\n",
    "temp.head()"
   ]
  },
  {
   "cell_type": "code",
   "execution_count": 35,
   "metadata": {},
   "outputs": [
    {
     "name": "stdout",
     "output_type": "stream",
     "text": [
      "CWE-COMBINED\n",
      "False    1191955\n",
      "True       82411\n",
      "Name: count, dtype: int64\n"
     ]
    },
    {
     "data": {
      "image/png": "[encoded data removed]",
      "text/plain": [
       "<Figure size 640x480 with 1 Axes>"
      ]
     },
     "metadata": {},
     "output_type": "display_data"
    }
   ],
   "source": [
    "# plot the distribution of combined vulnerabilities\n",
    "counts = temp['CWE-COMBINED'].value_counts()\n",
    "ax = counts.plot(kind='bar', color=['orange', 'blue'])\n",
    "plt.xticks(rotation=0)\n",
    "plt.title('Distribution of Combined Vulnerabilities')\n",
    "plt.xlabel('Vulnerability Present')\n",
    "\n",
    "# Add count labels on top of each bar\n",
    "for i, v in enumerate(counts):\n",
    "    ax.text(i, v, str(v), ha='center', va='bottom')\n",
    "print(counts)\n",
    "plt.show()"
   ]
  },
  {
   "cell_type": "code",
   "execution_count": 36,
   "metadata": {},
   "outputs": [
    {
     "data": {
      "text/html": [
       "<div>\n",
       "<style scoped>\n",
       "    .dataframe tbody tr th:only-of-type {\n",
       "        vertical-align: middle;\n",
       "    }\n",
       "\n",
       "    .dataframe tbody tr th {\n",
       "        vertical-align: top;\n",
       "    }\n",
       "\n",
       "    .dataframe thead th {\n",
       "        text-align: right;\n",
       "    }\n",
       "</style>\n",
       "<table border=\"1\" class=\"dataframe\">\n",
       "  <thead>\n",
       "    <tr style=\"text-align: right;\">\n",
       "      <th></th>\n",
       "      <th>testID</th>\n",
       "      <th>code</th>\n",
       "      <th>vuln</th>\n",
       "      <th>type</th>\n",
       "    </tr>\n",
       "  </thead>\n",
       "  <tbody>\n",
       "    <tr>\n",
       "      <th>0</th>\n",
       "      <td>0</td>\n",
       "      <td>fts_alloc(FTS *sp, const char *name, size_t na...</td>\n",
       "      <td>True</td>\n",
       "      <td>CWE-COMBINED</td>\n",
       "    </tr>\n",
       "    <tr>\n",
       "      <th>1</th>\n",
       "      <td>1</td>\n",
       "      <td>lexGetc_()\\n    {\\n    /* get next char from i...</td>\n",
       "      <td>True</td>\n",
       "      <td>CWE-COMBINED</td>\n",
       "    </tr>\n",
       "    <tr>\n",
       "      <th>2</th>\n",
       "      <td>2</td>\n",
       "      <td>calcNeeded(SessionConfig_t const * cfg)\\n{\\n  ...</td>\n",
       "      <td>False</td>\n",
       "      <td>CWE-COMBINED</td>\n",
       "    </tr>\n",
       "    <tr>\n",
       "      <th>3</th>\n",
       "      <td>3</td>\n",
       "      <td>subCopyState(BaseLearner *pBaseLearner)\\n\\t{\\n...</td>\n",
       "      <td>True</td>\n",
       "      <td>CWE-COMBINED</td>\n",
       "    </tr>\n",
       "    <tr>\n",
       "      <th>4</th>\n",
       "      <td>4</td>\n",
       "      <td>scripti_kill(GtkWidget *w,gpointer data) {\\n  ...</td>\n",
       "      <td>False</td>\n",
       "      <td>CWE-COMBINED</td>\n",
       "    </tr>\n",
       "  </tbody>\n",
       "</table>\n",
       "</div>"
      ],
      "text/plain": [
       "   testID                                               code   vuln  \\\n",
       "0       0  fts_alloc(FTS *sp, const char *name, size_t na...   True   \n",
       "1       1  lexGetc_()\\n    {\\n    /* get next char from i...   True   \n",
       "2       2  calcNeeded(SessionConfig_t const * cfg)\\n{\\n  ...  False   \n",
       "3       3  subCopyState(BaseLearner *pBaseLearner)\\n\\t{\\n...   True   \n",
       "4       4  scripti_kill(GtkWidget *w,gpointer data) {\\n  ...  False   \n",
       "\n",
       "           type  \n",
       "0  CWE-COMBINED  \n",
       "1  CWE-COMBINED  \n",
       "2  CWE-COMBINED  \n",
       "3  CWE-COMBINED  \n",
       "4  CWE-COMBINED  "
      ]
     },
     "execution_count": 36,
     "metadata": {},
     "output_type": "execute_result"
    }
   ],
   "source": [
    "# Randomly undersample the combined vulnerabilities only\n",
    "normalize_combined = under_sampling(temp, 'CWE-COMBINED')\n",
    "normalize_combined.reset_index(inplace=True)\n",
    "normalize_combined['type'] = 'CWE-COMBINED'\n",
    "normalize_combined.columns = ['testID', 'code', 'vuln', 'type']\n",
    "normalize_combined['testID'] = normalize_combined.index\n",
    "normalize_combined.head()"
   ]
  },
  {
   "cell_type": "code",
   "execution_count": 40,
   "metadata": {},
   "outputs": [
    {
     "name": "stdout",
     "output_type": "stream",
     "text": [
      "vuln\n",
      "True     82411\n",
      "False    82411\n",
      "Name: count, dtype: int64\n"
     ]
    },
    {
     "data": {
      "image/png": "[encoded data removed]",
      "text/plain": [
       "<Figure size 640x480 with 1 Axes>"
      ]
     },
     "metadata": {},
     "output_type": "display_data"
    }
   ],
   "source": [
    "# plot the distribution of combined vulnerabilities\n",
    "counts = normalize_combined['vuln'].value_counts()\n",
    "ax = counts.plot(kind='bar', color=['orange', 'blue'])\n",
    "plt.xticks(rotation=0)\n",
    "plt.title('Distribution of Combined Vulnerabilities')\n",
    "plt.xlabel('Vulnerability Present')\n",
    "\n",
    "# Add count labels on top of each bar\n",
    "for i, v in enumerate(counts):\n",
    "    ax.text(i, v, str(v), ha='center', va='bottom')\n",
    "print(counts)\n",
    "plt.show()"
   ]
  },
  {
   "cell_type": "code",
   "execution_count": 41,
   "metadata": {},
   "outputs": [
    {
     "data": {
      "text/html": [
       "<div>\n",
       "<style scoped>\n",
       "    .dataframe tbody tr th:only-of-type {\n",
       "        vertical-align: middle;\n",
       "    }\n",
       "\n",
       "    .dataframe tbody tr th {\n",
       "        vertical-align: top;\n",
       "    }\n",
       "\n",
       "    .dataframe thead th {\n",
       "        text-align: right;\n",
       "    }\n",
       "</style>\n",
       "<table border=\"1\" class=\"dataframe\">\n",
       "  <thead>\n",
       "    <tr style=\"text-align: right;\">\n",
       "      <th></th>\n",
       "      <th>testID</th>\n",
       "      <th>filename</th>\n",
       "      <th>code</th>\n",
       "      <th>vuln</th>\n",
       "      <th>type</th>\n",
       "    </tr>\n",
       "  </thead>\n",
       "  <tbody>\n",
       "    <tr>\n",
       "      <th>0</th>\n",
       "      <td>0</td>\n",
       "      <td>combined_0.c</td>\n",
       "      <td>fts_alloc(FTS *sp, const char *name, size_t na...</td>\n",
       "      <td>True</td>\n",
       "      <td>CWE-COMBINED</td>\n",
       "    </tr>\n",
       "    <tr>\n",
       "      <th>1</th>\n",
       "      <td>1</td>\n",
       "      <td>combined_1.c</td>\n",
       "      <td>lexGetc_()\\n    {\\n    /* get next char from i...</td>\n",
       "      <td>True</td>\n",
       "      <td>CWE-COMBINED</td>\n",
       "    </tr>\n",
       "    <tr>\n",
       "      <th>2</th>\n",
       "      <td>2</td>\n",
       "      <td>combined_2.c</td>\n",
       "      <td>calcNeeded(SessionConfig_t const * cfg)\\n{\\n  ...</td>\n",
       "      <td>False</td>\n",
       "      <td>CWE-COMBINED</td>\n",
       "    </tr>\n",
       "    <tr>\n",
       "      <th>3</th>\n",
       "      <td>3</td>\n",
       "      <td>combined_3.c</td>\n",
       "      <td>subCopyState(BaseLearner *pBaseLearner)\\n\\t{\\n...</td>\n",
       "      <td>True</td>\n",
       "      <td>CWE-COMBINED</td>\n",
       "    </tr>\n",
       "    <tr>\n",
       "      <th>4</th>\n",
       "      <td>4</td>\n",
       "      <td>combined_4.c</td>\n",
       "      <td>scripti_kill(GtkWidget *w,gpointer data) {\\n  ...</td>\n",
       "      <td>False</td>\n",
       "      <td>CWE-COMBINED</td>\n",
       "    </tr>\n",
       "  </tbody>\n",
       "</table>\n",
       "</div>"
      ],
      "text/plain": [
       "   testID      filename                                               code  \\\n",
       "0       0  combined_0.c  fts_alloc(FTS *sp, const char *name, size_t na...   \n",
       "1       1  combined_1.c  lexGetc_()\\n    {\\n    /* get next char from i...   \n",
       "2       2  combined_2.c  calcNeeded(SessionConfig_t const * cfg)\\n{\\n  ...   \n",
       "3       3  combined_3.c  subCopyState(BaseLearner *pBaseLearner)\\n\\t{\\n...   \n",
       "4       4  combined_4.c  scripti_kill(GtkWidget *w,gpointer data) {\\n  ...   \n",
       "\n",
       "    vuln          type  \n",
       "0   True  CWE-COMBINED  \n",
       "1   True  CWE-COMBINED  \n",
       "2  False  CWE-COMBINED  \n",
       "3   True  CWE-COMBINED  \n",
       "4  False  CWE-COMBINED  "
      ]
     },
     "execution_count": 41,
     "metadata": {},
     "output_type": "execute_result"
    }
   ],
   "source": [
    "# Add filename column to the normalized combined dataframe\n",
    "normalize_combined = add_filename_column(normalize_combined, \"combined\")\n",
    "normalize_combined.head()"
   ]
  },
  {
   "cell_type": "code",
   "execution_count": 45,
   "metadata": {},
   "outputs": [],
   "source": [
    "# Save the normalized combined dataframe to a csv file\n",
    "normalize_combined.to_csv('Datasets/Normalized_CWE-COMBINED.csv.gz', index=False)"
   ]
  }
 ],
 "metadata": {
  "kernelspec": {
   "display_name": "Python 3",
   "language": "python",
   "name": "python3"
  },
  "language_info": {
   "codemirror_mode": {
    "name": "ipython",
    "version": 3
   },
   "file_extension": ".py",
   "mimetype": "text/x-python",
   "name": "python",
   "nbconvert_exporter": "python",
   "pygments_lexer": "ipython3",
   "version": "3.11.9"
  }
 },
 "nbformat": 4,
 "nbformat_minor": 2
}
