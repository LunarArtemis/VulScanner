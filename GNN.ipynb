{
 "cells": [
  {
   "cell_type": "code",
   "execution_count": 1,
   "metadata": {},
   "outputs": [
    {
     "name": "stderr",
     "output_type": "stream",
     "text": [
      "/opt/homebrew/lib/python3.11/site-packages/tqdm/auto.py:21: TqdmWarning: IProgress not found. Please update jupyter and ipywidgets. See https://ipywidgets.readthedocs.io/en/stable/user_install.html\n",
      "  from .autonotebook import tqdm as notebook_tqdm\n"
     ]
    }
   ],
   "source": [
    "import torch\n",
    "from torch_geometric.data import InMemoryDataset\n",
    "from tqdm import tqdm\n",
    "from torch_geometric.data import Data\n",
    "from sklearn.metrics import confusion_matrix, f1_score, \\\n",
    "    accuracy_score, precision_score, recall_score\n",
    "from torch_geometric.data import Dataset\n",
    "from sklearn.metrics import roc_auc_score\n",
    "\n",
    "import clang.cindex \n",
    "import os\n",
    "import numpy as np\n",
    "import pandas as pd\n",
    "import matplotlib.pyplot as plt\n",
    "from matplotlib import rc"
   ]
  },
  {
   "cell_type": "code",
   "execution_count": 2,
   "metadata": {},
   "outputs": [
    {
     "name": "stdout",
     "output_type": "stream",
     "text": [
      "Linux/Mac\n",
      "None\n",
      "False\n"
     ]
    }
   ],
   "source": [
    "# Configure libclang path\n",
    "if os.name == 'nt':  # Windows\n",
    "    print('Windows')\n",
    "    clang.cindex.Config.set_library_file('D:/Project/LLVM/bin/libclang.dll')\n",
    "    print(clang.cindex.Config.library_path)\n",
    "elif os.name == 'posix':  # Linux/Mac\n",
    "    print('Linux/Mac')\n",
    "    clang.cindex.Config.set_library_file('/Library/Developer/CommandLineTools/usr/lib/libclang.dylib')\n",
    "    # clang.cindex.Config.set_library_path('/Library/Developer/CommandLineTools/usr/lib/')\n",
    "    print(clang.cindex.Config.library_path)\n",
    "\n",
    "# Verify if libclang is loaded\n",
    "print(clang.cindex.Config.loaded)  # Should print `True`"
   ]
  },
  {
   "cell_type": "code",
   "execution_count": 3,
   "metadata": {},
   "outputs": [],
   "source": [
    "def save_ast(node):\n",
    "    \"\"\"Store the children of the AST node.\"\"\"\n",
    "    node.children = list(node.get_children())\n",
    "    for child in node.children:\n",
    "        save_ast(child)\n",
    "\n",
    "def number_ast_nodes(node, counter=1):\n",
    "    \"\"\"Assign unique identifiers to each node in the AST.\"\"\"\n",
    "    node.identifier = counter\n",
    "    counter += 1\n",
    "\n",
    "    node.children = list(node.get_children())\n",
    "    for child in node.children:\n",
    "        counter = number_ast_nodes(child, counter)\n",
    "\n",
    "    return counter\n",
    "\n",
    "def generate_edgelist(ast_root):\n",
    "    \"\"\"Generate an edge list from the AST.\"\"\"\n",
    "    edges = [[], []]\n",
    "\n",
    "    def walk_tree_and_add_edges(node):\n",
    "        for child in node.children:\n",
    "            edges[0].append(node.identifier - 1)\n",
    "            edges[1].append(child.identifier - 1)\n",
    "            walk_tree_and_add_edges(child)\n",
    "\n",
    "    walk_tree_and_add_edges(ast_root)\n",
    "    return torch.tensor(edges, dtype=torch.long)\n",
    "\n",
    "def generate_features(ast_root):\n",
    "    \"\"\"Generate node features for the AST.\"\"\"\n",
    "    features = []\n",
    "\n",
    "    def walk_tree_and_set_features(node):\n",
    "        out_degree = len(node.children)\n",
    "        node_id = node.identifier\n",
    "        features.append([node_id, out_degree])\n",
    "\n",
    "        for child in node.children:\n",
    "            walk_tree_and_set_features(child)\n",
    "\n",
    "    walk_tree_and_set_features(ast_root)\n",
    "    return torch.tensor(features, dtype=torch.float)\n",
    "\n",
    "def clang_process(testcase):\n",
    "    \"\"\"Process a test case using Clang to generate AST, edges, and features.\"\"\"\n",
    "    parse_list = [(testcase.filename, testcase.code)]\n",
    "\n",
    "    index = clang.cindex.Index.create()\n",
    "    translation_unit = index.parse(path=testcase.filename, unsaved_files=parse_list)\n",
    "    ast_root = translation_unit.cursor\n",
    "\n",
    "    save_ast(ast_root)\n",
    "    number_ast_nodes(ast_root)\n",
    "\n",
    "    edges_embedding = generate_edgelist(ast_root)\n",
    "    nodes_embedding = generate_features(ast_root)\n",
    "    y = torch.tensor([testcase.vuln], dtype=torch.int64)\n",
    "\n",
    "    # Clean up Clang objects\n",
    "    del translation_unit, ast_root, index\n",
    "\n",
    "    return Data(x=nodes_embedding, edge_index=edges_embedding, y=y)"
   ]
  },
  {
   "cell_type": "code",
   "execution_count": 4,
   "metadata": {},
   "outputs": [],
   "source": [
    "class GenDataset(Dataset):\n",
    "    def __init__(self, root, csv_path, transform=None, pre_transform=None):\n",
    "        \"\"\"\n",
    "        Args:\n",
    "            root (str): Root directory where processed data will be stored.\n",
    "            csv_path (str): Path to the CSV file containing the dataset.\n",
    "            transform: Optional transform to be applied to the data.\n",
    "            pre_transform: Optional pre-transform to be applied to the data.\n",
    "        \"\"\"\n",
    "        self.csv_path = csv_path\n",
    "        super(GenDataset, self).__init__(root, transform, pre_transform)\n",
    "\n",
    "    @property\n",
    "    def raw_file_names(self):\n",
    "        return []  # No raw files are needed\n",
    "\n",
    "    @property\n",
    "    def processed_file_names(self):\n",
    "        \"\"\"Return a list of processed file names.\"\"\"\n",
    "        if not hasattr(self, 'data'):\n",
    "            self.data = pd.read_csv(self.csv_path)\n",
    "        return [f'data_{i}.pt' for i in range(len(self.data))]\n",
    "\n",
    "    def download(self):\n",
    "        \"\"\"No download needed since we are using a local CSV file.\"\"\"\n",
    "        pass\n",
    "\n",
    "    def process(self):\n",
    "        \"\"\"Load the CSV file and process each row into a graph.\"\"\"\n",
    "        self.data = pd.read_csv(self.csv_path)\n",
    "        for index, vuln in tqdm(self.data.iterrows(), total=len(self.data)):\n",
    "            data = clang_process(vuln)\n",
    "            torch.save(data, os.path.join(self.processed_dir, f'data_{index}.pt'))\n",
    "\n",
    "    def len(self):\n",
    "        \"\"\"Return the number of graphs in the dataset.\"\"\"\n",
    "        return len(self.processed_file_names)\n",
    "\n",
    "    def get(self, idx):\n",
    "        \"\"\"Load a graph from disk.\"\"\"\n",
    "        return torch.load(os.path.join(self.processed_dir, f'data_{idx}.pt'), weights_only=False)"
   ]
  },
  {
   "cell_type": "code",
   "execution_count": 5,
   "metadata": {},
   "outputs": [],
   "source": [
    "csv_path = \"Datasets/Normalized_CWE-469.csv\"\n",
    "dataset = GenDataset(root='processed_data', csv_path=csv_path)"
   ]
  },
  {
   "cell_type": "code",
   "execution_count": 6,
   "metadata": {},
   "outputs": [
    {
     "data": {
      "text/plain": [
       "5250"
      ]
     },
     "execution_count": 6,
     "metadata": {},
     "output_type": "execute_result"
    }
   ],
   "source": [
    "len(dataset)"
   ]
  },
  {
   "cell_type": "code",
   "execution_count": 7,
   "metadata": {},
   "outputs": [
    {
     "name": "stdout",
     "output_type": "stream",
     "text": [
      "Number of features: 2\n"
     ]
    }
   ],
   "source": [
    "print(f\"Number of features: {dataset[0].num_features}\")"
   ]
  },
  {
   "cell_type": "code",
   "execution_count": 8,
   "metadata": {},
   "outputs": [
    {
     "name": "stdout",
     "output_type": "stream",
     "text": [
      "Number of edges: 4\n",
      "Number of nodes: 5\n"
     ]
    }
   ],
   "source": [
    "tmpData = dataset[2] # Get the first graph object\n",
    "print(f\"Number of edges: {tmpData.num_edges}\")\n",
    "print(f\"Number of nodes: {tmpData.num_nodes}\")"
   ]
  },
  {
   "cell_type": "code",
   "execution_count": 9,
   "metadata": {},
   "outputs": [
    {
     "name": "stdout",
     "output_type": "stream",
     "text": [
      "tensor([[0, 1],\n",
      "        [1, 2],\n",
      "        [1, 3],\n",
      "        [1, 4]])\n"
     ]
    }
   ],
   "source": [
    "print(dataset[2].edge_index.t())"
   ]
  },
  {
   "cell_type": "code",
   "execution_count": 10,
   "metadata": {},
   "outputs": [
    {
     "name": "stdout",
     "output_type": "stream",
     "text": [
      "tensor([[1., 1.],\n",
      "        [2., 3.],\n",
      "        [3., 0.],\n",
      "        [4., 0.],\n",
      "        [5., 0.]])\n"
     ]
    }
   ],
   "source": [
    "print(dataset[2].x)"
   ]
  },
  {
   "cell_type": "code",
   "execution_count": 11,
   "metadata": {},
   "outputs": [
    {
     "name": "stdout",
     "output_type": "stream",
     "text": [
      "tensor([0])\n"
     ]
    }
   ],
   "source": [
    "print(dataset[2].y)"
   ]
  },
  {
   "cell_type": "markdown",
   "metadata": {},
   "source": [
    "### Split dataset into training and validation sets"
   ]
  },
  {
   "cell_type": "code",
   "execution_count": 12,
   "metadata": {},
   "outputs": [],
   "source": [
    "data = dataset.shuffle()\n",
    "one_tenth_length = int(len(data) * 0.1)\n",
    "train_dataset = data[:one_tenth_length * 8]\n",
    "val_dataset = data[one_tenth_length * 8 : one_tenth_length * 9]\n",
    "test_dataset = data[one_tenth_length * 9:]"
   ]
  },
  {
   "cell_type": "code",
   "execution_count": 13,
   "metadata": {},
   "outputs": [
    {
     "data": {
      "text/plain": [
       "(4200, 525, 525)"
      ]
     },
     "execution_count": 13,
     "metadata": {},
     "output_type": "execute_result"
    }
   ],
   "source": [
    "len(train_dataset), len(val_dataset), len(test_dataset)"
   ]
  },
  {
   "cell_type": "code",
   "execution_count": 34,
   "metadata": {},
   "outputs": [
    {
     "name": "stderr",
     "output_type": "stream",
     "text": [
      "/opt/homebrew/lib/python3.11/site-packages/torch_geometric/deprecation.py:26: UserWarning: 'data.DataLoader' is deprecated, use 'loader.DataLoader' instead\n",
      "  warnings.warn(out)\n"
     ]
    }
   ],
   "source": [
    "from torch_geometric.data import DataLoader\n",
    "NUM_OF_GRAPHS_PER_BATCH = 256\n",
    "train_dataset_loader = DataLoader(train_dataset, batch_size=NUM_OF_GRAPHS_PER_BATCH, shuffle=True, drop_last=True)\n",
    "val_dataset_loader = DataLoader(val_dataset, batch_size=NUM_OF_GRAPHS_PER_BATCH, shuffle=True, drop_last=True)\n",
    "test_dataset_loader = DataLoader(test_dataset, batch_size=NUM_OF_GRAPHS_PER_BATCH, shuffle=True, drop_last=True)"
   ]
  },
  {
   "cell_type": "markdown",
   "metadata": {},
   "source": [
    "## GNN model"
   ]
  },
  {
   "cell_type": "code",
   "execution_count": 37,
   "metadata": {},
   "outputs": [
    {
     "name": "stderr",
     "output_type": "stream",
     "text": [
      "/opt/homebrew/lib/python3.11/site-packages/torch/optim/lr_scheduler.py:62: UserWarning: The verbose parameter is deprecated. Please use get_last_lr() to access the learning rate.\n",
      "  warnings.warn(\n"
     ]
    }
   ],
   "source": [
    "import torch\n",
    "from torch.nn import Linear, Dropout\n",
    "import torch.nn.functional as F\n",
    "from torch_geometric.nn import GCNConv, global_mean_pool as gap, global_max_pool as gmp\n",
    "import numpy as np\n",
    "import matplotlib.pyplot as plt\n",
    "from sklearn.metrics import accuracy_score\n",
    "\n",
    "# Hyperparameters\n",
    "embedding_size = 256\n",
    "dropout_rate = 0.3\n",
    "learning_rate = 0.01\n",
    "patience = 5\n",
    "num_epochs = 100\n",
    "\n",
    "class GNN(torch.nn.Module):\n",
    "    def __init__(self, num_features):\n",
    "        super(GNN, self).__init__()\n",
    "        torch.manual_seed(42)\n",
    "        \n",
    "        # GCN layers\n",
    "        self.initial_conv = GCNConv(num_features, embedding_size)\n",
    "        self.conv1 = GCNConv(embedding_size, embedding_size)\n",
    "        self.conv2 = GCNConv(embedding_size, embedding_size)\n",
    "        self.conv3 = GCNConv(embedding_size, embedding_size)\n",
    "\n",
    "        # Fully connected layers\n",
    "        self.lin1 = Linear(embedding_size * 2, 128)\n",
    "        self.lin2 = Linear(128, 128)\n",
    "        self.lin3 = Linear(128, 1)\n",
    "\n",
    "        # Dropout layers\n",
    "        self.dropout = Dropout(p=dropout_rate)\n",
    "\n",
    "        # Initialize weights\n",
    "        self._init_weights()\n",
    "\n",
    "    def forward(self, x, edge_index, batch_index):\n",
    "        # GCN Layers with ReLU activation and skip connections\n",
    "        x1 = F.relu(self.initial_conv(x, edge_index))\n",
    "        x2 = F.relu(self.conv1(x1, edge_index))\n",
    "        x2 = x2 + x1  # Skip connection\n",
    "        x3 = F.relu(self.conv2(x2, edge_index))\n",
    "        x3 = x3 + x2  # Skip connection\n",
    "        x4 = F.relu(self.conv3(x3, edge_index))\n",
    "        x4 = x4 + x3  # Skip connection\n",
    "\n",
    "        # Global Pooling (Max + Mean)\n",
    "        x = torch.cat([gmp(x4, batch_index), gap(x4, batch_index)], dim=1)\n",
    "\n",
    "        # Fully connected layers\n",
    "        x = F.relu(self.lin1(x))\n",
    "        x = self.dropout(x)\n",
    "        x = F.relu(self.lin2(x))\n",
    "        x = self.dropout(x)\n",
    "        x = self.lin3(x)\n",
    "        return torch.sigmoid(x)\n",
    "\n",
    "    def _init_weights(self):\n",
    "        for m in self.modules():\n",
    "            if isinstance(m, Linear):\n",
    "                torch.nn.init.xavier_uniform_(m.weight)\n",
    "                if m.bias is not None:\n",
    "                    torch.nn.init.zeros_(m.bias)\n",
    "\n",
    "# Set device\n",
    "device = torch.device(\"cuda:0\" if torch.cuda.is_available() else \"cpu\")\n",
    "\n",
    "# Initialize model\n",
    "model = GNN(num_features=dataset.num_features).to(device)\n",
    "# Update optimizer with weight decay\n",
    "optimizer = torch.optim.Adam(model.parameters(), lr=learning_rate, weight_decay=1e-5)\n",
    "scheduler = torch.optim.lr_scheduler.ReduceLROnPlateau(optimizer, mode='min', patience=3, factor=0.5, verbose=True)\n",
    "loss_fn = torch.nn.BCELoss()\n",
    "\n",
    "# Training function\n",
    "def train():\n",
    "    model.train()\n",
    "    total_loss = 0\n",
    "    \n",
    "    for data in train_dataset_loader:\n",
    "        data = data.to(device)\n",
    "        optimizer.zero_grad()\n",
    "        output = model(data.x, data.edge_index, data.batch).squeeze()\n",
    "        loss = loss_fn(output, data.y.float())\n",
    "        loss.backward()\n",
    "        optimizer.step()\n",
    "        total_loss += loss.item()\n",
    "    \n",
    "    return total_loss / len(train_dataset_loader)\n",
    "\n",
    "# Evaluation function\n",
    "def evaluate(loader):\n",
    "    model.eval()\n",
    "    predictions, labels = [], []\n",
    "    total_loss = 0\n",
    "\n",
    "    with torch.no_grad():\n",
    "        for data in loader:\n",
    "            data = data.to(device)\n",
    "            pred = model(data.x.float(), data.edge_index, data.batch).squeeze()\n",
    "            loss = loss_fn(pred, data.y.float())\n",
    "            total_loss += loss.item()\n",
    "\n",
    "            predictions.append(np.rint(pred.cpu().numpy()))\n",
    "            labels.append(data.y.cpu().numpy())\n",
    "\n",
    "    predictions = np.concatenate(predictions).ravel()\n",
    "    labels = np.concatenate(labels).ravel()\n",
    "    \n",
    "    return accuracy_score(labels, predictions), total_loss / len(loader)"
   ]
  },
  {
   "cell_type": "code",
   "execution_count": 38,
   "metadata": {},
   "outputs": [
    {
     "name": "stdout",
     "output_type": "stream",
     "text": [
      "Starting training...\n",
      "Epoch   1 | Train Loss: 11.3474 | Train Acc: 0.7029 | Val Acc: 0.6934 | Val Loss: 0.6114\n",
      "Epoch   2 | Train Loss: 0.6002 | Train Acc: 0.6982 | Val Acc: 0.7129 | Val Loss: 0.5789\n"
     ]
    },
    {
     "ename": "KeyboardInterrupt",
     "evalue": "",
     "output_type": "error",
     "traceback": [
      "\u001b[0;31m---------------------------------------------------------------------------\u001b[0m",
      "\u001b[0;31mKeyboardInterrupt\u001b[0m                         Traceback (most recent call last)",
      "Cell \u001b[0;32mIn[38], line 11\u001b[0m\n\u001b[1;32m      9\u001b[0m \u001b[38;5;28mprint\u001b[39m(\u001b[38;5;124m\"\u001b[39m\u001b[38;5;124mStarting training...\u001b[39m\u001b[38;5;124m\"\u001b[39m)\n\u001b[1;32m     10\u001b[0m \u001b[38;5;28;01mfor\u001b[39;00m epoch \u001b[38;5;129;01min\u001b[39;00m \u001b[38;5;28mrange\u001b[39m(num_epochs):\n\u001b[0;32m---> 11\u001b[0m     train_loss \u001b[38;5;241m=\u001b[39m \u001b[43mtrain\u001b[49m\u001b[43m(\u001b[49m\u001b[43m)\u001b[49m\n\u001b[1;32m     12\u001b[0m     train_acc, _ \u001b[38;5;241m=\u001b[39m evaluate(train_dataset_loader)\n\u001b[1;32m     13\u001b[0m     val_acc, val_loss \u001b[38;5;241m=\u001b[39m evaluate(val_dataset_loader)\n",
      "Cell \u001b[0;32mIn[37], line 86\u001b[0m, in \u001b[0;36mtrain\u001b[0;34m()\u001b[0m\n\u001b[1;32m     84\u001b[0m output \u001b[38;5;241m=\u001b[39m model(data\u001b[38;5;241m.\u001b[39mx, data\u001b[38;5;241m.\u001b[39medge_index, data\u001b[38;5;241m.\u001b[39mbatch)\u001b[38;5;241m.\u001b[39msqueeze()\n\u001b[1;32m     85\u001b[0m loss \u001b[38;5;241m=\u001b[39m loss_fn(output, data\u001b[38;5;241m.\u001b[39my\u001b[38;5;241m.\u001b[39mfloat())\n\u001b[0;32m---> 86\u001b[0m \u001b[43mloss\u001b[49m\u001b[38;5;241;43m.\u001b[39;49m\u001b[43mbackward\u001b[49m\u001b[43m(\u001b[49m\u001b[43m)\u001b[49m\n\u001b[1;32m     87\u001b[0m optimizer\u001b[38;5;241m.\u001b[39mstep()\n\u001b[1;32m     88\u001b[0m total_loss \u001b[38;5;241m+\u001b[39m\u001b[38;5;241m=\u001b[39m loss\u001b[38;5;241m.\u001b[39mitem()\n",
      "File \u001b[0;32m/opt/homebrew/lib/python3.11/site-packages/torch/_tensor.py:626\u001b[0m, in \u001b[0;36mTensor.backward\u001b[0;34m(self, gradient, retain_graph, create_graph, inputs)\u001b[0m\n\u001b[1;32m    616\u001b[0m \u001b[38;5;28;01mif\u001b[39;00m has_torch_function_unary(\u001b[38;5;28mself\u001b[39m):\n\u001b[1;32m    617\u001b[0m     \u001b[38;5;28;01mreturn\u001b[39;00m handle_torch_function(\n\u001b[1;32m    618\u001b[0m         Tensor\u001b[38;5;241m.\u001b[39mbackward,\n\u001b[1;32m    619\u001b[0m         (\u001b[38;5;28mself\u001b[39m,),\n\u001b[0;32m   (...)\u001b[0m\n\u001b[1;32m    624\u001b[0m         inputs\u001b[38;5;241m=\u001b[39minputs,\n\u001b[1;32m    625\u001b[0m     )\n\u001b[0;32m--> 626\u001b[0m \u001b[43mtorch\u001b[49m\u001b[38;5;241;43m.\u001b[39;49m\u001b[43mautograd\u001b[49m\u001b[38;5;241;43m.\u001b[39;49m\u001b[43mbackward\u001b[49m\u001b[43m(\u001b[49m\n\u001b[1;32m    627\u001b[0m \u001b[43m    \u001b[49m\u001b[38;5;28;43mself\u001b[39;49m\u001b[43m,\u001b[49m\u001b[43m \u001b[49m\u001b[43mgradient\u001b[49m\u001b[43m,\u001b[49m\u001b[43m \u001b[49m\u001b[43mretain_graph\u001b[49m\u001b[43m,\u001b[49m\u001b[43m \u001b[49m\u001b[43mcreate_graph\u001b[49m\u001b[43m,\u001b[49m\u001b[43m \u001b[49m\u001b[43minputs\u001b[49m\u001b[38;5;241;43m=\u001b[39;49m\u001b[43minputs\u001b[49m\n\u001b[1;32m    628\u001b[0m \u001b[43m\u001b[49m\u001b[43m)\u001b[49m\n",
      "File \u001b[0;32m/opt/homebrew/lib/python3.11/site-packages/torch/autograd/__init__.py:347\u001b[0m, in \u001b[0;36mbackward\u001b[0;34m(tensors, grad_tensors, retain_graph, create_graph, grad_variables, inputs)\u001b[0m\n\u001b[1;32m    342\u001b[0m     retain_graph \u001b[38;5;241m=\u001b[39m create_graph\n\u001b[1;32m    344\u001b[0m \u001b[38;5;66;03m# The reason we repeat the same comment below is that\u001b[39;00m\n\u001b[1;32m    345\u001b[0m \u001b[38;5;66;03m# some Python versions print out the first line of a multi-line function\u001b[39;00m\n\u001b[1;32m    346\u001b[0m \u001b[38;5;66;03m# calls in the traceback and some print out the last line\u001b[39;00m\n\u001b[0;32m--> 347\u001b[0m \u001b[43m_engine_run_backward\u001b[49m\u001b[43m(\u001b[49m\n\u001b[1;32m    348\u001b[0m \u001b[43m    \u001b[49m\u001b[43mtensors\u001b[49m\u001b[43m,\u001b[49m\n\u001b[1;32m    349\u001b[0m \u001b[43m    \u001b[49m\u001b[43mgrad_tensors_\u001b[49m\u001b[43m,\u001b[49m\n\u001b[1;32m    350\u001b[0m \u001b[43m    \u001b[49m\u001b[43mretain_graph\u001b[49m\u001b[43m,\u001b[49m\n\u001b[1;32m    351\u001b[0m \u001b[43m    \u001b[49m\u001b[43mcreate_graph\u001b[49m\u001b[43m,\u001b[49m\n\u001b[1;32m    352\u001b[0m \u001b[43m    \u001b[49m\u001b[43minputs\u001b[49m\u001b[43m,\u001b[49m\n\u001b[1;32m    353\u001b[0m \u001b[43m    \u001b[49m\u001b[43mallow_unreachable\u001b[49m\u001b[38;5;241;43m=\u001b[39;49m\u001b[38;5;28;43;01mTrue\u001b[39;49;00m\u001b[43m,\u001b[49m\n\u001b[1;32m    354\u001b[0m \u001b[43m    \u001b[49m\u001b[43maccumulate_grad\u001b[49m\u001b[38;5;241;43m=\u001b[39;49m\u001b[38;5;28;43;01mTrue\u001b[39;49;00m\u001b[43m,\u001b[49m\n\u001b[1;32m    355\u001b[0m \u001b[43m\u001b[49m\u001b[43m)\u001b[49m\n",
      "File \u001b[0;32m/opt/homebrew/lib/python3.11/site-packages/torch/autograd/graph.py:823\u001b[0m, in \u001b[0;36m_engine_run_backward\u001b[0;34m(t_outputs, *args, **kwargs)\u001b[0m\n\u001b[1;32m    821\u001b[0m     unregister_hooks \u001b[38;5;241m=\u001b[39m _register_logging_hooks_on_whole_graph(t_outputs)\n\u001b[1;32m    822\u001b[0m \u001b[38;5;28;01mtry\u001b[39;00m:\n\u001b[0;32m--> 823\u001b[0m     \u001b[38;5;28;01mreturn\u001b[39;00m \u001b[43mVariable\u001b[49m\u001b[38;5;241;43m.\u001b[39;49m\u001b[43m_execution_engine\u001b[49m\u001b[38;5;241;43m.\u001b[39;49m\u001b[43mrun_backward\u001b[49m\u001b[43m(\u001b[49m\u001b[43m  \u001b[49m\u001b[38;5;66;43;03m# Calls into the C++ engine to run the backward pass\u001b[39;49;00m\n\u001b[1;32m    824\u001b[0m \u001b[43m        \u001b[49m\u001b[43mt_outputs\u001b[49m\u001b[43m,\u001b[49m\u001b[43m \u001b[49m\u001b[38;5;241;43m*\u001b[39;49m\u001b[43margs\u001b[49m\u001b[43m,\u001b[49m\u001b[43m \u001b[49m\u001b[38;5;241;43m*\u001b[39;49m\u001b[38;5;241;43m*\u001b[39;49m\u001b[43mkwargs\u001b[49m\n\u001b[1;32m    825\u001b[0m \u001b[43m    \u001b[49m\u001b[43m)\u001b[49m  \u001b[38;5;66;03m# Calls into the C++ engine to run the backward pass\u001b[39;00m\n\u001b[1;32m    826\u001b[0m \u001b[38;5;28;01mfinally\u001b[39;00m:\n\u001b[1;32m    827\u001b[0m     \u001b[38;5;28;01mif\u001b[39;00m attach_logging_hooks:\n",
      "\u001b[0;31mKeyboardInterrupt\u001b[0m: "
     ]
    }
   ],
   "source": [
    "# Lists to store metrics for plotting\n",
    "train_losses, val_losses = [], []\n",
    "train_accuracies, val_accuracies = [], []\n",
    "\n",
    "# Training loop with early stopping\n",
    "best_val_loss = float('inf')\n",
    "early_stop_counter = 0\n",
    "\n",
    "print(\"Starting training...\")\n",
    "for epoch in range(num_epochs):\n",
    "    train_loss = train()\n",
    "    train_acc, _ = evaluate(train_dataset_loader)\n",
    "    val_acc, val_loss = evaluate(val_dataset_loader)\n",
    "\n",
    "    scheduler.step(val_loss)\n",
    "\n",
    "    # Store metrics for plotting\n",
    "    train_losses.append(train_loss)\n",
    "    val_losses.append(val_loss)\n",
    "    train_accuracies.append(train_acc)\n",
    "    val_accuracies.append(val_acc)\n",
    "\n",
    "    print(f\"Epoch {epoch+1:3d} | Train Loss: {train_loss:.4f} | Train Acc: {train_acc:.4f} | Val Acc: {val_acc:.4f} | Val Loss: {val_loss:.4f}\")\n",
    "\n",
    "    if val_loss < best_val_loss:\n",
    "        best_val_loss = val_loss\n",
    "        best_model_state = model.state_dict().copy()\n",
    "        early_stop_counter = 0\n",
    "    else:\n",
    "        early_stop_counter += 1\n",
    "        if early_stop_counter >= patience:\n",
    "            print(\"Early stopping triggered!\")\n",
    "            break\n",
    "\n",
    "print(f\"Training finished. Best validation loss: {best_val_loss:.4f}\")"
   ]
  },
  {
   "cell_type": "markdown",
   "metadata": {},
   "source": [
    "### Ploting learning curve"
   ]
  },
  {
   "cell_type": "code",
   "execution_count": 36,
   "metadata": {},
   "outputs": [
    {
     "data": {
      "image/png": "[encoded data removed]",
      "text/plain": [
       "<Figure size 1200x500 with 2 Axes>"
      ]
     },
     "metadata": {},
     "output_type": "display_data"
    }
   ],
   "source": [
    "# Plot Loss Curve\n",
    "plt.figure(figsize=(12, 5))\n",
    "plt.subplot(1, 2, 1)\n",
    "plt.plot(range(1, len(train_losses) + 1), train_losses, label=\"Train Loss\", marker=\"o\")\n",
    "plt.plot(range(1, len(val_losses) + 1), val_losses, label=\"Validation Loss\", marker=\"o\")\n",
    "plt.xlabel(\"Epoch\")\n",
    "plt.ylabel(\"Loss\")\n",
    "plt.title(\"Learning Curve: Loss\")\n",
    "plt.legend()\n",
    "plt.grid()\n",
    "\n",
    "# Plot Accuracy Curve\n",
    "plt.subplot(1, 2, 2)\n",
    "plt.plot(range(1, len(train_accuracies) + 1), train_accuracies, label=\"Train Accuracy\", marker=\"o\")\n",
    "plt.plot(range(1, len(val_accuracies) + 1), val_accuracies, label=\"Validation Accuracy\", marker=\"o\")\n",
    "plt.xlabel(\"Epoch\")\n",
    "plt.ylabel(\"Accuracy\")\n",
    "plt.title(\"Learning Curve: Accuracy\")\n",
    "plt.legend()\n",
    "plt.grid()\n",
    "\n",
    "# Show plots\n",
    "plt.show()"
   ]
  },
  {
   "cell_type": "code",
   "execution_count": 35,
   "metadata": {},
   "outputs": [
    {
     "name": "stdout",
     "output_type": "stream",
     "text": [
      "\n",
      " Confusion matrix: \n",
      " [[167  98]\n",
      " [ 46 214]]\n",
      "\n",
      " Accuracy: 0.7257\n",
      "\n",
      " Precision: 0.6859\n",
      "\n",
      " Recall: 0.8231\n",
      "\n",
      " F1 Score: 0.7483\n"
     ]
    },
    {
     "data": {
      "text/html": [
       "<div>\n",
       "<style scoped>\n",
       "    .dataframe tbody tr th:only-of-type {\n",
       "        vertical-align: middle;\n",
       "    }\n",
       "\n",
       "    .dataframe tbody tr th {\n",
       "        vertical-align: top;\n",
       "    }\n",
       "\n",
       "    .dataframe thead th {\n",
       "        text-align: right;\n",
       "    }\n",
       "</style>\n",
       "<table border=\"1\" class=\"dataframe\">\n",
       "  <thead>\n",
       "    <tr style=\"text-align: right;\">\n",
       "      <th></th>\n",
       "      <th>y_real</th>\n",
       "      <th>y_pred</th>\n",
       "    </tr>\n",
       "  </thead>\n",
       "  <tbody>\n",
       "    <tr>\n",
       "      <th>0</th>\n",
       "      <td>1</td>\n",
       "      <td>[1.0]</td>\n",
       "    </tr>\n",
       "    <tr>\n",
       "      <th>1</th>\n",
       "      <td>0</td>\n",
       "      <td>[0.0]</td>\n",
       "    </tr>\n",
       "    <tr>\n",
       "      <th>2</th>\n",
       "      <td>0</td>\n",
       "      <td>[0.0]</td>\n",
       "    </tr>\n",
       "    <tr>\n",
       "      <th>3</th>\n",
       "      <td>1</td>\n",
       "      <td>[1.0]</td>\n",
       "    </tr>\n",
       "    <tr>\n",
       "      <th>4</th>\n",
       "      <td>1</td>\n",
       "      <td>[1.0]</td>\n",
       "    </tr>\n",
       "    <tr>\n",
       "      <th>...</th>\n",
       "      <td>...</td>\n",
       "      <td>...</td>\n",
       "    </tr>\n",
       "    <tr>\n",
       "      <th>520</th>\n",
       "      <td>1</td>\n",
       "      <td>[1.0]</td>\n",
       "    </tr>\n",
       "    <tr>\n",
       "      <th>521</th>\n",
       "      <td>0</td>\n",
       "      <td>[0.0]</td>\n",
       "    </tr>\n",
       "    <tr>\n",
       "      <th>522</th>\n",
       "      <td>0</td>\n",
       "      <td>[0.0]</td>\n",
       "    </tr>\n",
       "    <tr>\n",
       "      <th>523</th>\n",
       "      <td>1</td>\n",
       "      <td>[1.0]</td>\n",
       "    </tr>\n",
       "    <tr>\n",
       "      <th>524</th>\n",
       "      <td>0</td>\n",
       "      <td>[1.0]</td>\n",
       "    </tr>\n",
       "  </tbody>\n",
       "</table>\n",
       "<p>525 rows × 2 columns</p>\n",
       "</div>"
      ],
      "text/plain": [
       "     y_real y_pred\n",
       "0         1  [1.0]\n",
       "1         0  [0.0]\n",
       "2         0  [0.0]\n",
       "3         1  [1.0]\n",
       "4         1  [1.0]\n",
       "..      ...    ...\n",
       "520       1  [1.0]\n",
       "521       0  [0.0]\n",
       "522       0  [0.0]\n",
       "523       1  [1.0]\n",
       "524       0  [1.0]\n",
       "\n",
       "[525 rows x 2 columns]"
      ]
     },
     "execution_count": 35,
     "metadata": {},
     "output_type": "execute_result"
    }
   ],
   "source": [
    "import torch\n",
    "import pandas as pd\n",
    "import numpy as np\n",
    "from sklearn.metrics import accuracy_score, precision_score, recall_score, f1_score, confusion_matrix\n",
    "\n",
    "NUM_GRAPHS_PER_BATCH_1 = len(test_dataset)\n",
    "test_loader_all = DataLoader(test_dataset, batch_size=NUM_GRAPHS_PER_BATCH_1, drop_last=False, shuffle=True)\n",
    "\n",
    "# Analyze the results for all graphs\n",
    "test_batch = next(iter(test_loader_all))\n",
    "test_batch = test_batch.to(device)  # Move to device\n",
    "\n",
    "with torch.no_grad():\n",
    "    # Forward pass\n",
    "    pred = model(test_batch.x.float(), test_batch.edge_index, test_batch.batch)\n",
    "\n",
    "    # Convert predictions to binary (0 or 1)\n",
    "    pred_bin = np.rint(pred.cpu().numpy())  # Convert tensor → NumPy → Rounded binary values\n",
    "    y_true = test_batch.y.cpu().numpy()  # Convert tensor → NumPy\n",
    "\n",
    "    # Compute evaluation metrics\n",
    "    accuracy = accuracy_score(y_true, pred_bin)\n",
    "    precision = precision_score(y_true, pred_bin, zero_division=1)\n",
    "    recall = recall_score(y_true, pred_bin, zero_division=1)\n",
    "    f1 = f1_score(y_true, pred_bin)\n",
    "\n",
    "    # Print confusion matrix\n",
    "    print(f\"\\n Confusion matrix: \\n {confusion_matrix(y_true, pred_bin)}\")\n",
    "    print(f\"\\n Accuracy: {accuracy:.4f}\")\n",
    "    print(f\"\\n Precision: {precision:.4f}\")\n",
    "    print(f\"\\n Recall: {recall:.4f}\")\n",
    "    print(f\"\\n F1 Score: {f1:.4f}\")\n",
    "\n",
    "    # Save results in a DataFrame\n",
    "    df = pd.DataFrame({\n",
    "        \"y_real\": y_true.tolist(),\n",
    "        \"y_pred\": pred_bin.tolist()\n",
    "    })\n",
    "\n",
    "df  # Display DataFrame\n"
   ]
  }
 ],
 "metadata": {
  "kernelspec": {
   "display_name": "Python 3",
   "language": "python",
   "name": "python3"
  },
  "language_info": {
   "codemirror_mode": {
    "name": "ipython",
    "version": 3
   },
   "file_extension": ".py",
   "mimetype": "text/x-python",
   "name": "python",
   "nbconvert_exporter": "python",
   "pygments_lexer": "ipython3",
   "version": "3.11.11"
  }
 },
 "nbformat": 4,
 "nbformat_minor": 2
}
