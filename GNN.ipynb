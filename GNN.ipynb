{
 "cells": [
  {
   "cell_type": "code",
   "execution_count": 1,
   "metadata": {},
   "outputs": [
    {
     "name": "stderr",
     "output_type": "stream",
     "text": [
      "/opt/homebrew/lib/python3.11/site-packages/tqdm/auto.py:21: TqdmWarning: IProgress not found. Please update jupyter and ipywidgets. See https://ipywidgets.readthedocs.io/en/stable/user_install.html\n",
      "  from .autonotebook import tqdm as notebook_tqdm\n"
     ]
    }
   ],
   "source": [
    "# Extract AST from C source code using clang\n",
    "import clang.cindex\n",
    "import sys\n",
    "import json\n",
    "import os\n",
    "import numpy as np\n",
    "import pandas as pd\n",
    "import torch\n",
    "from torch_geometric.data import Data\n",
    "from torch.utils.data import Dataset\n",
    "from tqdm import tqdm\n",
    "from typing import Optional, List, Dict, Any, Tuple"
   ]
  },
  {
   "cell_type": "code",
   "execution_count": 2,
   "metadata": {},
   "outputs": [
    {
     "name": "stdout",
     "output_type": "stream",
     "text": [
      "Linux/Mac\n",
      "None\n",
      "False\n"
     ]
    }
   ],
   "source": [
    "# Configure libclang path\n",
    "if os.name == 'nt':  # Windows\n",
    "    print('Windows')\n",
    "    clang.cindex.Config.set_library_file('D:/Project/LLVM/bin/libclang.dll')\n",
    "    print(clang.cindex.Config.library_path)\n",
    "elif os.name == 'posix':  # Linux/Mac\n",
    "    print('Linux/Mac')\n",
    "    clang.cindex.Config.set_library_file('/Library/Developer/CommandLineTools/usr/lib/libclang.dylib')\n",
    "    # clang.cindex.Config.set_library_path('/Library/Developer/CommandLineTools/usr/lib/')\n",
    "    print(clang.cindex.Config.library_path)\n",
    "\n",
    "# Verify if libclang is loaded\n",
    "print(clang.cindex.Config.loaded)  # Should print `True`"
   ]
  },
  {
   "cell_type": "code",
   "execution_count": 3,
   "metadata": {},
   "outputs": [],
   "source": [
    "def save_ast(node):\n",
    "    \"\"\" Recursively save the AST in a dictionary format \"\"\"\n",
    "    node.children = list(node.get_children())\n",
    "\n",
    "    for child in node.children:\n",
    "        save_ast(child)\n",
    "        \n",
    "def numbering_ast_nodes(node, counter=1):\n",
    "    \"\"\" Recursively number the AST nodes \"\"\"\n",
    "    node.identifier = counter\n",
    "    counter += 1\n",
    "\n",
    "    node.children = list(node.get_children())\n",
    "    for child in node.children:\n",
    "        counter = numbering_ast_nodes(child, counter)\n",
    "\n",
    "    return counter\n",
    "\n",
    "def generate_edgelist(ast_root):\n",
    "    \"\"\" Generate an edge list from the AST \"\"\"\n",
    "    edges = []\n",
    "\n",
    "    def walk_tree_and_add_edges(node):\n",
    "        for child in node.children:\n",
    "            edges.append([node.identifier, child.identifier])\n",
    "            walk_tree_and_add_edges(child)\n",
    "\n",
    "    walk_tree_and_add_edges(ast_root)\n",
    "\n",
    "    return edges\n",
    "\n",
    "def generate_features(ast_root):\n",
    "    \"\"\" Generate features for each node in the AST \"\"\"\n",
    "    features = {}\n",
    "\n",
    "    def walk_tree_and_set_features(node):\n",
    "        out_degree = len(node.children)\n",
    "        degree = out_degree\n",
    "\n",
    "        features[node.identifier] = degree\n",
    "\n",
    "        for child in node.children:\n",
    "            walk_tree_and_set_features(child)\n",
    "\n",
    "    walk_tree_and_set_features(ast_root)\n",
    "\n",
    "    return features\n",
    "\n",
    "def get_source_file(datapoints):\n",
    "    \"\"\" Get the source file from the list of datapoints \"\"\"\n",
    "    if len(datapoints) == 1:\n",
    "        return datapoints.iloc[0]\n",
    "\n",
    "def clang_process(testcase, **kwargs):\n",
    "    \"\"\"Parses source code with Clang and extracts AST-based graph representation.\"\"\"\n",
    "    parse_list = [\n",
    "        (testcase.filename, testcase.code)\n",
    "    ]\n",
    "\n",
    "    # source_file = get_source_file(testcase)\n",
    "\n",
    "    # Parsing the source code and extracting AST using clang\n",
    "    index = clang.cindex.Index.create()\n",
    "    translation_unit = index.parse(\n",
    "        path=testcase.filename,\n",
    "        unsaved_files=parse_list,\n",
    "    )\n",
    "    ast_root = translation_unit.cursor\n",
    "\n",
    "    save_ast(ast_root)\n",
    "    numbering_ast_nodes(ast_root)\n",
    "\n",
    "    graphs_embedding = generate_edgelist(ast_root)\n",
    "    nodes_embedding = generate_features(ast_root)\n",
    "\n",
    "    y = torch.tensor([testcase.vuln], dtype=torch.int64)\n",
    "\n",
    "    # delete clang objects\n",
    "    del translation_unit\n",
    "    del ast_root\n",
    "    del index\n",
    "\n",
    "    return Data(x=nodes_embedding, edge_index=graphs_embedding, y=y)\n",
    "\n"
   ]
  },
  {
   "cell_type": "code",
   "execution_count": 4,
   "metadata": {},
   "outputs": [],
   "source": [
    "class GenDatasets(Dataset):\n",
    "    def __init__(self, csv_path, root, transform=None, pre_transform=None):\n",
    "        \"\"\"\n",
    "        Args:\n",
    "            csv_path (str): Path to the CSV dataset.\n",
    "            root (str): Root directory where processed data will be stored.\n",
    "            transform (callable, optional): Optional transform to be applied on a sample.\n",
    "            pre_transform (callable, optional): Optional pre-transform before processing.\n",
    "        \"\"\"\n",
    "        self.csv_path = csv_path\n",
    "        self.root = root\n",
    "        self.transform = transform\n",
    "        self.pre_transform = pre_transform\n",
    "        super(GenDatasets, self).__init__()\n",
    "        \n",
    "        self.processed_dir = os.path.join(root, 'processed')\n",
    "        os.makedirs(self.processed_dir, exist_ok=True)\n",
    "        self.data = pd.read_csv(self.csv_path)\n",
    "    \n",
    "    @property\n",
    "    def raw_file_names(self):\n",
    "        return []\n",
    "\n",
    "    @property\n",
    "    def processed_file_names(self):\n",
    "        return [f'data_{i}.pt' for i in range(len(self.data))]\n",
    "\n",
    "    def download(self):\n",
    "        pass  # No downloading required\n",
    "\n",
    "    def process(self):\n",
    "        for index, vuln in tqdm(self.data.iterrows(), total=len(self.data)):\n",
    "            data = clang_process(vuln)\n",
    "            torch.save(data, os.path.join(self.processed_dir, f'data_{index}.pt'))\n",
    "    \n",
    "    def len(self):\n",
    "        return len(self.data)\n",
    "\n",
    "    def get(self, idx):\n",
    "        return torch.load(os.path.join(self.processed_dir, f'data_{idx}.pt'))"
   ]
  },
  {
   "cell_type": "code",
   "execution_count": 5,
   "metadata": {},
   "outputs": [
    {
     "name": "stderr",
     "output_type": "stream",
     "text": [
      "100%|██████████| 5250/5250 [00:14<00:00, 351.24it/s]\n"
     ]
    }
   ],
   "source": [
    "dataset = GenDatasets(csv_path=\"Datasets/Normalized_CWE-469.csv\", root=\"Dataset/\")\n",
    "dataset.process()"
   ]
  }
 ],
 "metadata": {
  "kernelspec": {
   "display_name": "Python 3",
   "language": "python",
   "name": "python3"
  },
  "language_info": {
   "codemirror_mode": {
    "name": "ipython",
    "version": 3
   },
   "file_extension": ".py",
   "mimetype": "text/x-python",
   "name": "python",
   "nbconvert_exporter": "python",
   "pygments_lexer": "ipython3",
   "version": "3.11.11"
  }
 },
 "nbformat": 4,
 "nbformat_minor": 2
}
