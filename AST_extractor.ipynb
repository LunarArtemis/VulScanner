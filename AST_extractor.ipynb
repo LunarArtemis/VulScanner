{
 "cells": [
  {
   "cell_type": "code",
   "execution_count": 1,
   "metadata": {},
   "outputs": [
    {
     "name": "stderr",
     "output_type": "stream",
     "text": [
      "c:\\Users\\ireen\\AppData\\Local\\Programs\\Python\\Python311\\Lib\\site-packages\\tqdm\\auto.py:21: TqdmWarning: IProgress not found. Please update jupyter and ipywidgets. See https://ipywidgets.readthedocs.io/en/stable/user_install.html\n",
      "  from .autonotebook import tqdm as notebook_tqdm\n"
     ]
    }
   ],
   "source": [
    "# Extract AST from C source code using clang\n",
    "import clang.cindex\n",
    "import sys\n",
    "import json\n",
    "import os\n",
    "import dask.dataframe as dd # for parallel computing \n",
    "import numpy as np\n",
    "import pandas as pd\n",
    "import torch\n",
    "from torch_geometric.data import Data\n",
    "from torch.utils.data import Dataset\n",
    "from tqdm import tqdm\n",
    "from typing import Optional, List, Dict, Any, Tuple"
   ]
  },
  {
   "cell_type": "code",
   "execution_count": 2,
   "metadata": {},
   "outputs": [
    {
     "name": "stdout",
     "output_type": "stream",
     "text": [
      "Windows\n",
      "False\n"
     ]
    }
   ],
   "source": [
    "# Configure libclang path\n",
    "if os.name == 'nt':  # Windows\n",
    "    print('Windows')\n",
    "    clang.cindex.Config.set_library_file('D:/Project/LLVM/bin/libclang.dll')\n",
    "    #clang.cindex.Config.set_library_file('D:\\Project\\LLVM\\bin\\libclang.dll')\n",
    "elif os.name == 'posix':  # Linux/Mac\n",
    "    print('Linux/Mac')\n",
    "    clang.cindex.Config.set_library_file('/usr/lib/llvm-14/lib/libclang.so.1')\n",
    "\n",
    "# Verify if libclang is loaded\n",
    "print(clang.cindex.Config.loaded)  # Should print `True`"
   ]
  },
  {
   "cell_type": "code",
   "execution_count": 3,
   "metadata": {},
   "outputs": [
    {
     "name": "stdout",
     "output_type": "stream",
     "text": [
      "<class 'pandas.core.frame.DataFrame'>\n",
      "RangeIndex: 5250 entries, 0 to 5249\n",
      "Data columns (total 6 columns):\n",
      " #   Column      Non-Null Count  Dtype \n",
      "---  ------      --------------  ----- \n",
      " 0   Unnamed: 0  5250 non-null   int64 \n",
      " 1   testID      5250 non-null   int64 \n",
      " 2   filename    5250 non-null   object\n",
      " 3   code        5250 non-null   object\n",
      " 4   vuln        5250 non-null   bool  \n",
      " 5   type        5250 non-null   object\n",
      "dtypes: bool(1), int64(2), object(3)\n",
      "memory usage: 210.3+ KB\n"
     ]
    }
   ],
   "source": [
    "vdisc = pd.read_csv('Datasets/Normalized_CWE-469.csv.gz')\n",
    "vdisc.info()"
   ]
  },
  {
   "cell_type": "code",
   "execution_count": 4,
   "metadata": {},
   "outputs": [
    {
     "name": "stdout",
     "output_type": "stream",
     "text": [
      "<class 'pandas.core.frame.DataFrame'>\n",
      "RangeIndex: 95320 entries, 0 to 95319\n",
      "Data columns (total 6 columns):\n",
      " #   Column      Non-Null Count  Dtype \n",
      "---  ------      --------------  ----- \n",
      " 0   Unnamed: 0  95320 non-null  int64 \n",
      " 1   testID      95320 non-null  int64 \n",
      " 2   filename    95320 non-null  object\n",
      " 3   code        95320 non-null  object\n",
      " 4   vuln        95320 non-null  bool  \n",
      " 5   type        95320 non-null  object\n",
      "dtypes: bool(1), int64(2), object(3)\n",
      "memory usage: 3.7+ MB\n"
     ]
    }
   ],
   "source": [
    "vdisctemp = pd.read_csv('Datasets/Normalized_CWE-120.csv.gz')\n",
    "vdisctemp.info()"
   ]
  },
  {
   "cell_type": "code",
   "execution_count": 7,
   "metadata": {},
   "outputs": [],
   "source": [
    "import os\n",
    "import json\n",
    "import pandas as pd\n",
    "import dask.dataframe as dd\n",
    "import clang.cindex\n",
    "\n",
    "def save_ast(node):\n",
    "    node.children = list(node.get_children())\n",
    "\n",
    "    for child in node.children:\n",
    "        save_ast(child)\n",
    "        \n",
    "def numbering_ast_nodes(node, counter=1):\n",
    "    node.identifier = counter\n",
    "    counter += 1\n",
    "\n",
    "    node.children = list(node.get_children())\n",
    "    for child in node.children:\n",
    "        counter = numbering_ast_nodes(child, counter)\n",
    "\n",
    "    return counter\n",
    "\n",
    "def generate_edgelist(ast_root):\n",
    "    edges = []\n",
    "\n",
    "    def walk_tree_and_add_edges(node):\n",
    "        for child in node.children:\n",
    "            edges.append([node.identifier, child.identifier])\n",
    "            walk_tree_and_add_edges(child)\n",
    "\n",
    "    walk_tree_and_add_edges(ast_root)\n",
    "\n",
    "    return edges\n",
    "\n",
    "def generate_features(ast_root):\n",
    "    features = {}\n",
    "\n",
    "    def walk_tree_and_set_features(node):\n",
    "        out_degree = len(node.children)\n",
    "        degree = out_degree\n",
    "\n",
    "        features[node.identifier] = degree\n",
    "\n",
    "        for child in node.children:\n",
    "            walk_tree_and_set_features(child)\n",
    "\n",
    "    walk_tree_and_set_features(ast_root)\n",
    "\n",
    "    return features\n",
    "\n",
    "def get_source_file(datapoints):\n",
    "    if len(datapoints) == 1:\n",
    "        return datapoints.iloc[0]\n",
    "\n",
    "def clang_process(testcase, **kwargs):\n",
    "    parse_list = [\n",
    "        (datapoint.filename, datapoint.code)\n",
    "        for datapoint in testcase.itertuples()\n",
    "    ]\n",
    "\n",
    "    source_file = get_source_file(testcase)\n",
    "\n",
    "    # Parsing the source code and extracting AST using clang\n",
    "    index = clang.cindex.Index.create()\n",
    "    translation_unit = index.parse(\n",
    "        path=source_file.filename,\n",
    "        unsaved_files=parse_list,\n",
    "    )\n",
    "    ast_root = translation_unit.cursor\n",
    "\n",
    "    save_ast(ast_root)\n",
    "    numbering_ast_nodes(ast_root)\n",
    "\n",
    "    edgelist = generate_edgelist(ast_root)\n",
    "    features = generate_features(ast_root)\n",
    "\n",
    "    graph_representation = {\n",
    "        \"edges\": edgelist,\n",
    "        \"features\": features,\n",
    "    }\n",
    "\n",
    "    # delete clang objects\n",
    "    del translation_unit\n",
    "    del ast_root\n",
    "    del index\n",
    "\n",
    "    return json.dumps(graph_representation)\n",
    "\n",
    "def process_dataset(csv_location, output_location):\n",
    "    print(\"Preprocessing source code files and extracting ASTs\")\n",
    "\n",
    "    data = dd.read_csv(csv_location, blocksize=\"25MB\")  # Read as Dask DF\n",
    "    num_partitions = data.npartitions  # Dynamically get number of partitions\n",
    "\n",
    "    graph2vec_input_dir = os.path.join(output_location, \"graph2vec_input/\")\n",
    "    os.makedirs(graph2vec_input_dir, exist_ok=True)\n",
    "\n",
    "    print(f\"Total Partitions: {num_partitions}\")  # Debugging\n",
    "\n",
    "    for partition_index in range(num_partitions):  # Process only available partitions\n",
    "        print(f\"Processing Partition {partition_index}...\")  # Debugging\n",
    "        batch = data.partitions[partition_index]  \n",
    "        batch = batch.compute()  # Convert only this partition to Pandas\n",
    "\n",
    "        graphs = batch.groupby(['testID']).apply(\n",
    "            clang_process,\n",
    "            axis=1\n",
    "        )\n",
    "\n",
    "        for index, row in graphs.items():\n",
    "            with open(os.path.join(graph2vec_input_dir, f\"{index}.json\"), 'w') as f:\n",
    "                f.write(row)\n",
    "\n",
    "    print(\"✅ Done.\")\n",
    "    return graph2vec_input_dir"
   ]
  },
  {
   "cell_type": "code",
   "execution_count": 8,
   "metadata": {},
   "outputs": [
    {
     "name": "stdout",
     "output_type": "stream",
     "text": [
      "Preprocessing source code files and extracting ASTs\n",
      "Total Partitions: 1\n",
      "Processing Partition 0...\n"
     ]
    },
    {
     "name": "stderr",
     "output_type": "stream",
     "text": [
      "C:\\Users\\ireen\\AppData\\Local\\Temp\\ipykernel_4092\\3707166073.py:105: DeprecationWarning: DataFrameGroupBy.apply operated on the grouping columns. This behavior is deprecated, and in a future version of pandas the grouping columns will be excluded from the operation. Either pass `include_groups=False` to exclude the groupings or explicitly select the grouping columns after groupby to silence this warning.\n",
      "  graphs = batch.groupby(['testID']).apply(\n"
     ]
    },
    {
     "name": "stdout",
     "output_type": "stream",
     "text": [
      "✅ Done.\n"
     ]
    },
    {
     "data": {
      "text/plain": [
       "'graph2vec/dataset/graph2vec_input/'"
      ]
     },
     "execution_count": 8,
     "metadata": {},
     "output_type": "execute_result"
    }
   ],
   "source": [
    "csv_location = 'Datasets/Normalized_CWE-469.csv'\n",
    "output_location = 'graph2vec/dataset/'\n",
    "process_dataset(csv_location, output_location)"
   ]
  },
  {
   "cell_type": "markdown",
   "metadata": {},
   "source": [
    "# Run this after when it extracts the data from the input file.\n",
    "\n",
    "```bash\n",
    "python graph2vec.py --input-path dataset/graph2vec_input/ --output-path features/<file_name>.csv\n",
    "```"
   ]
  }
 ],
 "metadata": {
  "kernelspec": {
   "display_name": "Python 3",
   "language": "python",
   "name": "python3"
  },
  "language_info": {
   "codemirror_mode": {
    "name": "ipython",
    "version": 3
   },
   "file_extension": ".py",
   "mimetype": "text/x-python",
   "name": "python",
   "nbconvert_exporter": "python",
   "pygments_lexer": "ipython3",
   "version": "3.11.9"
  }
 },
 "nbformat": 4,
 "nbformat_minor": 2
}
