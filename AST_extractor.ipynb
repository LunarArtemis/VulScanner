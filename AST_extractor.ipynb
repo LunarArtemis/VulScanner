{
 "cells": [
  {
   "cell_type": "code",
   "execution_count": 1,
   "metadata": {},
   "outputs": [
    {
     "name": "stderr",
     "output_type": "stream",
     "text": [
      "/opt/homebrew/lib/python3.11/site-packages/tqdm/auto.py:21: TqdmWarning: IProgress not found. Please update jupyter and ipywidgets. See https://ipywidgets.readthedocs.io/en/stable/user_install.html\n",
      "  from .autonotebook import tqdm as notebook_tqdm\n"
     ]
    }
   ],
   "source": [
    "# Extract AST from C source code using clang\n",
    "import clang.cindex\n",
    "import sys\n",
    "import json\n",
    "import os\n",
    "import dask.dataframe as dd # for parallel computing \n",
    "import numpy as np\n",
    "import pandas as pd\n",
    "import torch\n",
    "from torch_geometric.data import Data\n",
    "from torch.utils.data import Dataset\n",
    "from tqdm import tqdm\n",
    "from typing import Optional, List, Dict, Any, Tuple"
   ]
  },
  {
   "cell_type": "code",
   "execution_count": null,
   "metadata": {},
   "outputs": [
    {
     "name": "stdout",
     "output_type": "stream",
     "text": [
      "Linux/Mac\n",
      "None\n",
      "False\n"
     ]
    }
   ],
   "source": [
    "# Configure libclang path\n",
    "if platform == \"linux\" or platform == \"linux2\":\n",
    "    print(\"Linux\")\n",
    "    clang.cindex.Config.set_library_file('/usr/lib/llvm-14/lib/libclang.so')\n",
    "elif platform == \"darwin\":\n",
    "    print(\"OS X\")\n",
    "    clang.cindex.Config.set_library_file('/Library/Developer/CommandLineTools/usr/lib/libclang.dylib')\n",
    "elif platform == \"win32\":\n",
    "    print(\"Windows\")\n",
    "    clang.cindex.Config.set_library_file('D:/Project/LLVM/bin/libclang.dll')\n",
    "\n",
    "# Verify if libclang is loaded\n",
    "print(clang.cindex.Config.loaded)  # Should print `True`"
   ]
  },
  {
   "cell_type": "markdown",
   "metadata": {},
   "source": [
    "## Load dataset"
   ]
  },
  {
   "cell_type": "code",
   "execution_count": 3,
   "metadata": {},
   "outputs": [],
   "source": [
    "# vdisc = pd.read_csv('Datasets/Normalized_CWE-469.csv.gz')\n",
    "# vdisc.info()"
   ]
  },
  {
   "cell_type": "code",
   "execution_count": 4,
   "metadata": {},
   "outputs": [],
   "source": [
    "def save_ast(node):\n",
    "    \"\"\" Recursively save the AST in a dictionary format \"\"\"\n",
    "    node.children = list(node.get_children())\n",
    "\n",
    "    for child in node.children:\n",
    "        save_ast(child)\n",
    "        \n",
    "def numbering_ast_nodes(node, counter=1):\n",
    "    \"\"\" Recursively number the AST nodes \"\"\"\n",
    "    node.identifier = counter\n",
    "    counter += 1\n",
    "\n",
    "    node.children = list(node.get_children())\n",
    "    for child in node.children:\n",
    "        counter = numbering_ast_nodes(child, counter)\n",
    "\n",
    "    return counter\n",
    "\n",
    "def generate_edgelist(ast_root):\n",
    "    \"\"\" Generate an edge list from the AST \"\"\"\n",
    "    edges = []\n",
    "\n",
    "    def walk_tree_and_add_edges(node):\n",
    "        for child in node.children:\n",
    "            edges.append([node.identifier, child.identifier])\n",
    "            walk_tree_and_add_edges(child)\n",
    "\n",
    "    walk_tree_and_add_edges(ast_root)\n",
    "\n",
    "    return edges\n",
    "\n",
    "def generate_features(ast_root):\n",
    "    \"\"\" Generate features for each node in the AST \"\"\"\n",
    "    features = {}\n",
    "\n",
    "    def walk_tree_and_set_features(node):\n",
    "        out_degree = len(node.children)\n",
    "        degree = out_degree\n",
    "\n",
    "        features[node.identifier] = degree\n",
    "\n",
    "        for child in node.children:\n",
    "            walk_tree_and_set_features(child)\n",
    "\n",
    "    walk_tree_and_set_features(ast_root)\n",
    "\n",
    "    return features\n",
    "\n",
    "def get_source_file(datapoints):\n",
    "    \"\"\" Get the source file from the list of datapoints \"\"\"\n",
    "    if len(datapoints) == 1:\n",
    "        return datapoints.iloc[0]\n",
    "\n",
    "def clang_process(testcase, **kwargs):\n",
    "    \"\"\"Parses source code with Clang and extracts AST-based graph representation.\"\"\"\n",
    "    parse_list = [\n",
    "        (datapoint.filename, datapoint.code)\n",
    "        for datapoint in testcase.itertuples()\n",
    "    ]\n",
    "\n",
    "    source_file = get_source_file(testcase)\n",
    "\n",
    "    # Parsing the source code and extracting AST using clang\n",
    "    index = clang.cindex.Index.create()\n",
    "    translation_unit = index.parse(\n",
    "        path=source_file.filename,\n",
    "        unsaved_files=parse_list,\n",
    "    )\n",
    "    ast_root = translation_unit.cursor\n",
    "\n",
    "    save_ast(ast_root)\n",
    "    numbering_ast_nodes(ast_root)\n",
    "\n",
    "    edgelist = generate_edgelist(ast_root)\n",
    "    features = generate_features(ast_root)\n",
    "\n",
    "    graph_representation = {\n",
    "        \"edges\": edgelist,\n",
    "        \"features\": features,\n",
    "    }\n",
    "\n",
    "    # delete clang objects\n",
    "    del translation_unit\n",
    "    del ast_root\n",
    "    del index\n",
    "\n",
    "    return json.dumps(graph_representation)\n",
    "\n",
    "def process_dataset(csv_location, output_location):\n",
    "    print(\"Preprocessing source code files and extracting ASTs\")\n",
    "\n",
    "    data = dd.read_csv(csv_location, blocksize=\"25MB\")  # Read as Dask DF\n",
    "    num_partitions = data.npartitions  # Dynamically get number of partitions\n",
    "\n",
    "    graph2vec_input_dir = os.path.join(output_location, \"graph2vec_input/\")\n",
    "    os.makedirs(graph2vec_input_dir, exist_ok=True)\n",
    "\n",
    "    print(f\"Total Partitions: {num_partitions}\")  # Debugging\n",
    "\n",
    "    for partition_index in range(num_partitions):  # Process only available partitions\n",
    "        print(f\"Processing Partition {partition_index}...\")  # Debugging\n",
    "        batch = data.partitions[partition_index]  \n",
    "        batch = batch.compute()  # Convert only this partition to Pandas\n",
    "\n",
    "        graphs = batch.groupby(['testID']).apply(\n",
    "            clang_process,\n",
    "            axis=1\n",
    "        )\n",
    "\n",
    "        for index, row in graphs.items():\n",
    "            with open(os.path.join(graph2vec_input_dir, f\"{index}.json\"), 'w') as f:\n",
    "                f.write(row)\n",
    "\n",
    "    print(\"✅ Done.\")\n",
    "    return graph2vec_input_dir"
   ]
  },
  {
   "cell_type": "code",
   "execution_count": 5,
   "metadata": {},
   "outputs": [
    {
     "name": "stdout",
     "output_type": "stream",
     "text": [
      "Preprocessing source code files and extracting ASTs\n",
      "Total Partitions: 1\n",
      "Processing Partition 0...\n"
     ]
    },
    {
     "ename": "LibclangError",
     "evalue": "dlsym(0x7ed8fb60, clang_getOffsetOfBase): symbol not found. Please ensure that your python bindings are compatible with your libclang.so version.",
     "output_type": "error",
     "traceback": [
      "\u001b[0;31m---------------------------------------------------------------------------\u001b[0m",
      "\u001b[0;31mAttributeError\u001b[0m                            Traceback (most recent call last)",
      "File \u001b[0;32m/opt/homebrew/lib/python3.11/site-packages/clang/cindex.py:4062\u001b[0m, in \u001b[0;36mregister_function\u001b[0;34m(lib, item, ignore_errors)\u001b[0m\n\u001b[1;32m   4061\u001b[0m \u001b[38;5;28;01mtry\u001b[39;00m:\n\u001b[0;32m-> 4062\u001b[0m     func \u001b[38;5;241m=\u001b[39m \u001b[38;5;28mgetattr\u001b[39m(lib, item[\u001b[38;5;241m0\u001b[39m])\n\u001b[1;32m   4063\u001b[0m \u001b[38;5;28;01mexcept\u001b[39;00m \u001b[38;5;167;01mAttributeError\u001b[39;00m \u001b[38;5;28;01mas\u001b[39;00m e:\n",
      "File \u001b[0;32m/opt/homebrew/Cellar/python@3.11/3.11.11/Frameworks/Python.framework/Versions/3.11/lib/python3.11/ctypes/__init__.py:389\u001b[0m, in \u001b[0;36mCDLL.__getattr__\u001b[0;34m(self, name)\u001b[0m\n\u001b[1;32m    388\u001b[0m     \u001b[38;5;28;01mraise\u001b[39;00m \u001b[38;5;167;01mAttributeError\u001b[39;00m(name)\n\u001b[0;32m--> 389\u001b[0m func \u001b[38;5;241m=\u001b[39m \u001b[38;5;28;43mself\u001b[39;49m\u001b[38;5;241;43m.\u001b[39;49m\u001b[38;5;21;43m__getitem__\u001b[39;49m\u001b[43m(\u001b[49m\u001b[43mname\u001b[49m\u001b[43m)\u001b[49m\n\u001b[1;32m    390\u001b[0m \u001b[38;5;28msetattr\u001b[39m(\u001b[38;5;28mself\u001b[39m, name, func)\n",
      "File \u001b[0;32m/opt/homebrew/Cellar/python@3.11/3.11.11/Frameworks/Python.framework/Versions/3.11/lib/python3.11/ctypes/__init__.py:394\u001b[0m, in \u001b[0;36mCDLL.__getitem__\u001b[0;34m(self, name_or_ordinal)\u001b[0m\n\u001b[1;32m    393\u001b[0m \u001b[38;5;28;01mdef\u001b[39;00m\u001b[38;5;250m \u001b[39m\u001b[38;5;21m__getitem__\u001b[39m(\u001b[38;5;28mself\u001b[39m, name_or_ordinal):\n\u001b[0;32m--> 394\u001b[0m     func \u001b[38;5;241m=\u001b[39m \u001b[38;5;28;43mself\u001b[39;49m\u001b[38;5;241;43m.\u001b[39;49m\u001b[43m_FuncPtr\u001b[49m\u001b[43m(\u001b[49m\u001b[43m(\u001b[49m\u001b[43mname_or_ordinal\u001b[49m\u001b[43m,\u001b[49m\u001b[43m \u001b[49m\u001b[38;5;28;43mself\u001b[39;49m\u001b[43m)\u001b[49m\u001b[43m)\u001b[49m\n\u001b[1;32m    395\u001b[0m     \u001b[38;5;28;01mif\u001b[39;00m \u001b[38;5;129;01mnot\u001b[39;00m \u001b[38;5;28misinstance\u001b[39m(name_or_ordinal, \u001b[38;5;28mint\u001b[39m):\n",
      "\u001b[0;31mAttributeError\u001b[0m: dlsym(0x7ed8fb60, clang_getOffsetOfBase): symbol not found",
      "\nDuring handling of the above exception, another exception occurred:\n",
      "\u001b[0;31mLibclangError\u001b[0m                             Traceback (most recent call last)",
      "Cell \u001b[0;32mIn[5], line 3\u001b[0m\n\u001b[1;32m      1\u001b[0m csv_location \u001b[38;5;241m=\u001b[39m \u001b[38;5;124m'\u001b[39m\u001b[38;5;124mDatasets/Normalized_CWE-469.csv\u001b[39m\u001b[38;5;124m'\u001b[39m\n\u001b[1;32m      2\u001b[0m output_location \u001b[38;5;241m=\u001b[39m \u001b[38;5;124m'\u001b[39m\u001b[38;5;124mgraph2vec/dataset/\u001b[39m\u001b[38;5;124m'\u001b[39m\n\u001b[0;32m----> 3\u001b[0m \u001b[43mprocess_dataset\u001b[49m\u001b[43m(\u001b[49m\u001b[43mcsv_location\u001b[49m\u001b[43m,\u001b[49m\u001b[43m \u001b[49m\u001b[43moutput_location\u001b[49m\u001b[43m)\u001b[49m\n",
      "Cell \u001b[0;32mIn[4], line 105\u001b[0m, in \u001b[0;36mprocess_dataset\u001b[0;34m(csv_location, output_location)\u001b[0m\n\u001b[1;32m    102\u001b[0m batch \u001b[38;5;241m=\u001b[39m data\u001b[38;5;241m.\u001b[39mpartitions[partition_index]  \n\u001b[1;32m    103\u001b[0m batch \u001b[38;5;241m=\u001b[39m batch\u001b[38;5;241m.\u001b[39mcompute()  \u001b[38;5;66;03m# Convert only this partition to Pandas\u001b[39;00m\n\u001b[0;32m--> 105\u001b[0m graphs \u001b[38;5;241m=\u001b[39m \u001b[43mbatch\u001b[49m\u001b[38;5;241;43m.\u001b[39;49m\u001b[43mgroupby\u001b[49m\u001b[43m(\u001b[49m\u001b[43m[\u001b[49m\u001b[38;5;124;43m'\u001b[39;49m\u001b[38;5;124;43mtestID\u001b[39;49m\u001b[38;5;124;43m'\u001b[39;49m\u001b[43m]\u001b[49m\u001b[43m)\u001b[49m\u001b[38;5;241;43m.\u001b[39;49m\u001b[43mapply\u001b[49m\u001b[43m(\u001b[49m\n\u001b[1;32m    106\u001b[0m \u001b[43m    \u001b[49m\u001b[43mclang_process\u001b[49m\u001b[43m,\u001b[49m\n\u001b[1;32m    107\u001b[0m \u001b[43m    \u001b[49m\u001b[43maxis\u001b[49m\u001b[38;5;241;43m=\u001b[39;49m\u001b[38;5;241;43m1\u001b[39;49m\n\u001b[1;32m    108\u001b[0m \u001b[43m\u001b[49m\u001b[43m)\u001b[49m\n\u001b[1;32m    110\u001b[0m \u001b[38;5;28;01mfor\u001b[39;00m index, row \u001b[38;5;129;01min\u001b[39;00m graphs\u001b[38;5;241m.\u001b[39mitems():\n\u001b[1;32m    111\u001b[0m     \u001b[38;5;28;01mwith\u001b[39;00m \u001b[38;5;28mopen\u001b[39m(os\u001b[38;5;241m.\u001b[39mpath\u001b[38;5;241m.\u001b[39mjoin(graph2vec_input_dir, \u001b[38;5;124mf\u001b[39m\u001b[38;5;124m\"\u001b[39m\u001b[38;5;132;01m{\u001b[39;00mindex\u001b[38;5;132;01m}\u001b[39;00m\u001b[38;5;124m.json\u001b[39m\u001b[38;5;124m\"\u001b[39m), \u001b[38;5;124m'\u001b[39m\u001b[38;5;124mw\u001b[39m\u001b[38;5;124m'\u001b[39m) \u001b[38;5;28;01mas\u001b[39;00m f:\n",
      "File \u001b[0;32m/opt/homebrew/lib/python3.11/site-packages/pandas/core/groupby/groupby.py:1824\u001b[0m, in \u001b[0;36mGroupBy.apply\u001b[0;34m(self, func, include_groups, *args, **kwargs)\u001b[0m\n\u001b[1;32m   1822\u001b[0m \u001b[38;5;28;01mwith\u001b[39;00m option_context(\u001b[38;5;124m\"\u001b[39m\u001b[38;5;124mmode.chained_assignment\u001b[39m\u001b[38;5;124m\"\u001b[39m, \u001b[38;5;28;01mNone\u001b[39;00m):\n\u001b[1;32m   1823\u001b[0m     \u001b[38;5;28;01mtry\u001b[39;00m:\n\u001b[0;32m-> 1824\u001b[0m         result \u001b[38;5;241m=\u001b[39m \u001b[38;5;28;43mself\u001b[39;49m\u001b[38;5;241;43m.\u001b[39;49m\u001b[43m_python_apply_general\u001b[49m\u001b[43m(\u001b[49m\u001b[43mf\u001b[49m\u001b[43m,\u001b[49m\u001b[43m \u001b[49m\u001b[38;5;28;43mself\u001b[39;49m\u001b[38;5;241;43m.\u001b[39;49m\u001b[43m_selected_obj\u001b[49m\u001b[43m)\u001b[49m\n\u001b[1;32m   1825\u001b[0m         \u001b[38;5;28;01mif\u001b[39;00m (\n\u001b[1;32m   1826\u001b[0m             \u001b[38;5;129;01mnot\u001b[39;00m \u001b[38;5;28misinstance\u001b[39m(\u001b[38;5;28mself\u001b[39m\u001b[38;5;241m.\u001b[39mobj, Series)\n\u001b[1;32m   1827\u001b[0m             \u001b[38;5;129;01mand\u001b[39;00m \u001b[38;5;28mself\u001b[39m\u001b[38;5;241m.\u001b[39m_selection \u001b[38;5;129;01mis\u001b[39;00m \u001b[38;5;28;01mNone\u001b[39;00m\n\u001b[1;32m   1828\u001b[0m             \u001b[38;5;129;01mand\u001b[39;00m \u001b[38;5;28mself\u001b[39m\u001b[38;5;241m.\u001b[39m_selected_obj\u001b[38;5;241m.\u001b[39mshape \u001b[38;5;241m!=\u001b[39m \u001b[38;5;28mself\u001b[39m\u001b[38;5;241m.\u001b[39m_obj_with_exclusions\u001b[38;5;241m.\u001b[39mshape\n\u001b[1;32m   1829\u001b[0m         ):\n\u001b[1;32m   1830\u001b[0m             warnings\u001b[38;5;241m.\u001b[39mwarn(\n\u001b[1;32m   1831\u001b[0m                 message\u001b[38;5;241m=\u001b[39m_apply_groupings_depr\u001b[38;5;241m.\u001b[39mformat(\n\u001b[1;32m   1832\u001b[0m                     \u001b[38;5;28mtype\u001b[39m(\u001b[38;5;28mself\u001b[39m)\u001b[38;5;241m.\u001b[39m\u001b[38;5;18m__name__\u001b[39m, \u001b[38;5;124m\"\u001b[39m\u001b[38;5;124mapply\u001b[39m\u001b[38;5;124m\"\u001b[39m\n\u001b[0;32m   (...)\u001b[0m\n\u001b[1;32m   1835\u001b[0m                 stacklevel\u001b[38;5;241m=\u001b[39mfind_stack_level(),\n\u001b[1;32m   1836\u001b[0m             )\n",
      "File \u001b[0;32m/opt/homebrew/lib/python3.11/site-packages/pandas/core/groupby/groupby.py:1885\u001b[0m, in \u001b[0;36mGroupBy._python_apply_general\u001b[0;34m(self, f, data, not_indexed_same, is_transform, is_agg)\u001b[0m\n\u001b[1;32m   1850\u001b[0m \u001b[38;5;129m@final\u001b[39m\n\u001b[1;32m   1851\u001b[0m \u001b[38;5;28;01mdef\u001b[39;00m\u001b[38;5;250m \u001b[39m\u001b[38;5;21m_python_apply_general\u001b[39m(\n\u001b[1;32m   1852\u001b[0m     \u001b[38;5;28mself\u001b[39m,\n\u001b[0;32m   (...)\u001b[0m\n\u001b[1;32m   1857\u001b[0m     is_agg: \u001b[38;5;28mbool\u001b[39m \u001b[38;5;241m=\u001b[39m \u001b[38;5;28;01mFalse\u001b[39;00m,\n\u001b[1;32m   1858\u001b[0m ) \u001b[38;5;241m-\u001b[39m\u001b[38;5;241m>\u001b[39m NDFrameT:\n\u001b[1;32m   1859\u001b[0m \u001b[38;5;250m    \u001b[39m\u001b[38;5;124;03m\"\"\"\u001b[39;00m\n\u001b[1;32m   1860\u001b[0m \u001b[38;5;124;03m    Apply function f in python space\u001b[39;00m\n\u001b[1;32m   1861\u001b[0m \n\u001b[0;32m   (...)\u001b[0m\n\u001b[1;32m   1883\u001b[0m \u001b[38;5;124;03m        data after applying f\u001b[39;00m\n\u001b[1;32m   1884\u001b[0m \u001b[38;5;124;03m    \"\"\"\u001b[39;00m\n\u001b[0;32m-> 1885\u001b[0m     values, mutated \u001b[38;5;241m=\u001b[39m \u001b[38;5;28;43mself\u001b[39;49m\u001b[38;5;241;43m.\u001b[39;49m\u001b[43m_grouper\u001b[49m\u001b[38;5;241;43m.\u001b[39;49m\u001b[43mapply_groupwise\u001b[49m\u001b[43m(\u001b[49m\u001b[43mf\u001b[49m\u001b[43m,\u001b[49m\u001b[43m \u001b[49m\u001b[43mdata\u001b[49m\u001b[43m,\u001b[49m\u001b[43m \u001b[49m\u001b[38;5;28;43mself\u001b[39;49m\u001b[38;5;241;43m.\u001b[39;49m\u001b[43maxis\u001b[49m\u001b[43m)\u001b[49m\n\u001b[1;32m   1886\u001b[0m     \u001b[38;5;28;01mif\u001b[39;00m not_indexed_same \u001b[38;5;129;01mis\u001b[39;00m \u001b[38;5;28;01mNone\u001b[39;00m:\n\u001b[1;32m   1887\u001b[0m         not_indexed_same \u001b[38;5;241m=\u001b[39m mutated\n",
      "File \u001b[0;32m/opt/homebrew/lib/python3.11/site-packages/pandas/core/groupby/ops.py:919\u001b[0m, in \u001b[0;36mBaseGrouper.apply_groupwise\u001b[0;34m(self, f, data, axis)\u001b[0m\n\u001b[1;32m    917\u001b[0m \u001b[38;5;66;03m# group might be modified\u001b[39;00m\n\u001b[1;32m    918\u001b[0m group_axes \u001b[38;5;241m=\u001b[39m group\u001b[38;5;241m.\u001b[39maxes\n\u001b[0;32m--> 919\u001b[0m res \u001b[38;5;241m=\u001b[39m \u001b[43mf\u001b[49m\u001b[43m(\u001b[49m\u001b[43mgroup\u001b[49m\u001b[43m)\u001b[49m\n\u001b[1;32m    920\u001b[0m \u001b[38;5;28;01mif\u001b[39;00m \u001b[38;5;129;01mnot\u001b[39;00m mutated \u001b[38;5;129;01mand\u001b[39;00m \u001b[38;5;129;01mnot\u001b[39;00m _is_indexed_like(res, group_axes, axis):\n\u001b[1;32m    921\u001b[0m     mutated \u001b[38;5;241m=\u001b[39m \u001b[38;5;28;01mTrue\u001b[39;00m\n",
      "File \u001b[0;32m/opt/homebrew/lib/python3.11/site-packages/pandas/core/groupby/groupby.py:1809\u001b[0m, in \u001b[0;36mGroupBy.apply.<locals>.f\u001b[0;34m(g)\u001b[0m\n\u001b[1;32m   1807\u001b[0m \u001b[38;5;129m@wraps\u001b[39m(func)\n\u001b[1;32m   1808\u001b[0m \u001b[38;5;28;01mdef\u001b[39;00m\u001b[38;5;250m \u001b[39m\u001b[38;5;21mf\u001b[39m(g):\n\u001b[0;32m-> 1809\u001b[0m     \u001b[38;5;28;01mreturn\u001b[39;00m \u001b[43mfunc\u001b[49m\u001b[43m(\u001b[49m\u001b[43mg\u001b[49m\u001b[43m,\u001b[49m\u001b[43m \u001b[49m\u001b[38;5;241;43m*\u001b[39;49m\u001b[43margs\u001b[49m\u001b[43m,\u001b[49m\u001b[43m \u001b[49m\u001b[38;5;241;43m*\u001b[39;49m\u001b[38;5;241;43m*\u001b[39;49m\u001b[43mkwargs\u001b[49m\u001b[43m)\u001b[49m\n",
      "Cell \u001b[0;32mIn[4], line 64\u001b[0m, in \u001b[0;36mclang_process\u001b[0;34m(testcase, **kwargs)\u001b[0m\n\u001b[1;32m     61\u001b[0m source_file \u001b[38;5;241m=\u001b[39m get_source_file(testcase)\n\u001b[1;32m     63\u001b[0m \u001b[38;5;66;03m# Parsing the source code and extracting AST using clang\u001b[39;00m\n\u001b[0;32m---> 64\u001b[0m index \u001b[38;5;241m=\u001b[39m \u001b[43mclang\u001b[49m\u001b[38;5;241;43m.\u001b[39;49m\u001b[43mcindex\u001b[49m\u001b[38;5;241;43m.\u001b[39;49m\u001b[43mIndex\u001b[49m\u001b[38;5;241;43m.\u001b[39;49m\u001b[43mcreate\u001b[49m\u001b[43m(\u001b[49m\u001b[43m)\u001b[49m\n\u001b[1;32m     65\u001b[0m translation_unit \u001b[38;5;241m=\u001b[39m index\u001b[38;5;241m.\u001b[39mparse(\n\u001b[1;32m     66\u001b[0m     path\u001b[38;5;241m=\u001b[39msource_file\u001b[38;5;241m.\u001b[39mfilename,\n\u001b[1;32m     67\u001b[0m     unsaved_files\u001b[38;5;241m=\u001b[39mparse_list,\n\u001b[1;32m     68\u001b[0m )\n\u001b[1;32m     69\u001b[0m ast_root \u001b[38;5;241m=\u001b[39m translation_unit\u001b[38;5;241m.\u001b[39mcursor\n",
      "File \u001b[0;32m/opt/homebrew/lib/python3.11/site-packages/clang/cindex.py:3020\u001b[0m, in \u001b[0;36mIndex.create\u001b[0;34m(excludeDecls)\u001b[0m\n\u001b[1;32m   3013\u001b[0m \u001b[38;5;129m@staticmethod\u001b[39m\n\u001b[1;32m   3014\u001b[0m \u001b[38;5;28;01mdef\u001b[39;00m\u001b[38;5;250m \u001b[39m\u001b[38;5;21mcreate\u001b[39m(excludeDecls\u001b[38;5;241m=\u001b[39m\u001b[38;5;28;01mFalse\u001b[39;00m):\n\u001b[1;32m   3015\u001b[0m \u001b[38;5;250m    \u001b[39m\u001b[38;5;124;03m\"\"\"\u001b[39;00m\n\u001b[1;32m   3016\u001b[0m \u001b[38;5;124;03m    Create a new Index.\u001b[39;00m\n\u001b[1;32m   3017\u001b[0m \u001b[38;5;124;03m    Parameters:\u001b[39;00m\n\u001b[1;32m   3018\u001b[0m \u001b[38;5;124;03m    excludeDecls -- Exclude local declarations from translation units.\u001b[39;00m\n\u001b[1;32m   3019\u001b[0m \u001b[38;5;124;03m    \"\"\"\u001b[39;00m\n\u001b[0;32m-> 3020\u001b[0m     \u001b[38;5;28;01mreturn\u001b[39;00m Index(\u001b[43mconf\u001b[49m\u001b[38;5;241;43m.\u001b[39;49m\u001b[43mlib\u001b[49m\u001b[38;5;241m.\u001b[39mclang_createIndex(excludeDecls, \u001b[38;5;241m0\u001b[39m))\n",
      "File \u001b[0;32m/opt/homebrew/lib/python3.11/site-packages/clang/cindex.py:229\u001b[0m, in \u001b[0;36mCachedProperty.__get__\u001b[0;34m(self, instance, instance_type)\u001b[0m\n\u001b[1;32m    224\u001b[0m     class_name \u001b[38;5;241m=\u001b[39m instance_type\u001b[38;5;241m.\u001b[39m\u001b[38;5;18m__name__\u001b[39m\n\u001b[1;32m    225\u001b[0m     \u001b[38;5;28;01mraise\u001b[39;00m \u001b[38;5;167;01mTypeError\u001b[39;00m(\n\u001b[1;32m    226\u001b[0m         \u001b[38;5;124mf\u001b[39m\u001b[38;5;124m\"\u001b[39m\u001b[38;5;124m'\u001b[39m\u001b[38;5;132;01m{\u001b[39;00mproperty_name\u001b[38;5;132;01m}\u001b[39;00m\u001b[38;5;124m'\u001b[39m\u001b[38;5;124m is not a static attribute of \u001b[39m\u001b[38;5;124m'\u001b[39m\u001b[38;5;132;01m{\u001b[39;00mclass_name\u001b[38;5;132;01m}\u001b[39;00m\u001b[38;5;124m'\u001b[39m\u001b[38;5;124m\"\u001b[39m\n\u001b[1;32m    227\u001b[0m     )\n\u001b[0;32m--> 229\u001b[0m value \u001b[38;5;241m=\u001b[39m \u001b[38;5;28;43mself\u001b[39;49m\u001b[38;5;241;43m.\u001b[39;49m\u001b[43mwrapped\u001b[49m\u001b[43m(\u001b[49m\u001b[43minstance\u001b[49m\u001b[43m)\u001b[49m\n\u001b[1;32m    230\u001b[0m \u001b[38;5;28msetattr\u001b[39m(instance, \u001b[38;5;28mself\u001b[39m\u001b[38;5;241m.\u001b[39mwrapped\u001b[38;5;241m.\u001b[39m\u001b[38;5;18m__name__\u001b[39m, value)\n\u001b[1;32m    232\u001b[0m \u001b[38;5;28;01mreturn\u001b[39;00m value\n",
      "File \u001b[0;32m/opt/homebrew/lib/python3.11/site-packages/clang/cindex.py:4153\u001b[0m, in \u001b[0;36mConfig.lib\u001b[0;34m(self)\u001b[0m\n\u001b[1;32m   4150\u001b[0m \u001b[38;5;129m@CachedProperty\u001b[39m\n\u001b[1;32m   4151\u001b[0m \u001b[38;5;28;01mdef\u001b[39;00m\u001b[38;5;250m \u001b[39m\u001b[38;5;21mlib\u001b[39m(\u001b[38;5;28mself\u001b[39m) \u001b[38;5;241m-\u001b[39m\u001b[38;5;241m>\u001b[39m CDLL:\n\u001b[1;32m   4152\u001b[0m     lib \u001b[38;5;241m=\u001b[39m \u001b[38;5;28mself\u001b[39m\u001b[38;5;241m.\u001b[39mget_cindex_library()\n\u001b[0;32m-> 4153\u001b[0m     \u001b[43mregister_functions\u001b[49m\u001b[43m(\u001b[49m\u001b[43mlib\u001b[49m\u001b[43m,\u001b[49m\u001b[43m \u001b[49m\u001b[38;5;129;43;01mnot\u001b[39;49;00m\u001b[43m \u001b[49m\u001b[43mConfig\u001b[49m\u001b[38;5;241;43m.\u001b[39;49m\u001b[43mcompatibility_check\u001b[49m\u001b[43m)\u001b[49m\n\u001b[1;32m   4154\u001b[0m     Config\u001b[38;5;241m.\u001b[39mloaded \u001b[38;5;241m=\u001b[39m \u001b[38;5;28;01mTrue\u001b[39;00m\n\u001b[1;32m   4155\u001b[0m     \u001b[38;5;28;01mreturn\u001b[39;00m lib\n",
      "File \u001b[0;32m/opt/homebrew/lib/python3.11/site-packages/clang/cindex.py:4093\u001b[0m, in \u001b[0;36mregister_functions\u001b[0;34m(lib, ignore_errors)\u001b[0m\n\u001b[1;32m   4090\u001b[0m     register_function(lib, item, ignore_errors)\n\u001b[1;32m   4092\u001b[0m \u001b[38;5;28;01mfor\u001b[39;00m f \u001b[38;5;129;01min\u001b[39;00m functionList:\n\u001b[0;32m-> 4093\u001b[0m     \u001b[43mregister\u001b[49m\u001b[43m(\u001b[49m\u001b[43mf\u001b[49m\u001b[43m)\u001b[49m\n",
      "File \u001b[0;32m/opt/homebrew/lib/python3.11/site-packages/clang/cindex.py:4090\u001b[0m, in \u001b[0;36mregister_functions.<locals>.register\u001b[0;34m(item)\u001b[0m\n\u001b[1;32m   4089\u001b[0m \u001b[38;5;28;01mdef\u001b[39;00m\u001b[38;5;250m \u001b[39m\u001b[38;5;21mregister\u001b[39m(item: LibFunc) \u001b[38;5;241m-\u001b[39m\u001b[38;5;241m>\u001b[39m \u001b[38;5;28;01mNone\u001b[39;00m:\n\u001b[0;32m-> 4090\u001b[0m     \u001b[43mregister_function\u001b[49m\u001b[43m(\u001b[49m\u001b[43mlib\u001b[49m\u001b[43m,\u001b[49m\u001b[43m \u001b[49m\u001b[43mitem\u001b[49m\u001b[43m,\u001b[49m\u001b[43m \u001b[49m\u001b[43mignore_errors\u001b[49m\u001b[43m)\u001b[49m\n",
      "File \u001b[0;32m/opt/homebrew/lib/python3.11/site-packages/clang/cindex.py:4070\u001b[0m, in \u001b[0;36mregister_function\u001b[0;34m(lib, item, ignore_errors)\u001b[0m\n\u001b[1;32m   4068\u001b[0m     \u001b[38;5;28;01mif\u001b[39;00m ignore_errors:\n\u001b[1;32m   4069\u001b[0m         \u001b[38;5;28;01mreturn\u001b[39;00m\n\u001b[0;32m-> 4070\u001b[0m     \u001b[38;5;28;01mraise\u001b[39;00m LibclangError(msg)\n\u001b[1;32m   4072\u001b[0m \u001b[38;5;28;01mif\u001b[39;00m \u001b[38;5;28mlen\u001b[39m(item) \u001b[38;5;241m>\u001b[39m\u001b[38;5;241m=\u001b[39m \u001b[38;5;241m2\u001b[39m:\n\u001b[1;32m   4073\u001b[0m     func\u001b[38;5;241m.\u001b[39margtypes \u001b[38;5;241m=\u001b[39m item[\u001b[38;5;241m1\u001b[39m]\n",
      "\u001b[0;31mLibclangError\u001b[0m: dlsym(0x7ed8fb60, clang_getOffsetOfBase): symbol not found. Please ensure that your python bindings are compatible with your libclang.so version."
     ]
    }
   ],
   "source": [
    "csv_location = 'Datasets/Normalized_CWE-469.csv'\n",
    "output_location = 'graph2vec/dataset/'\n",
    "process_dataset(csv_location, output_location)"
   ]
  },
  {
   "cell_type": "markdown",
   "metadata": {},
   "source": [
    "## Run this after when it extracts the data from the input file.\n",
    "\n",
    "```bash\n",
    "python graph2vec.py --input-path dataset/graph2vec_input/ --output-path features/<file_name>.csv\n",
    "```"
   ]
  }
 ],
 "metadata": {
  "kernelspec": {
   "display_name": "Python 3",
   "language": "python",
   "name": "python3"
  },
  "language_info": {
   "codemirror_mode": {
    "name": "ipython",
    "version": 3
   },
   "file_extension": ".py",
   "mimetype": "text/x-python",
   "name": "python",
   "nbconvert_exporter": "python",
   "pygments_lexer": "ipython3",
   "version": "3.11.11"
  }
 },
 "nbformat": 4,
 "nbformat_minor": 2
}
